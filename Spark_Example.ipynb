{
  "nbformat": 4,
  "nbformat_minor": 0,
  "metadata": {
    "colab": {
      "name": "Spark Example.ipynb",
      "version": "0.3.2",
      "provenance": [],
      "collapsed_sections": [],
      "include_colab_link": true
    },
    "kernelspec": {
      "name": "python2",
      "display_name": "Python 2"
    }
  },
  "cells": [
    {
      "cell_type": "markdown",
      "metadata": {
        "id": "view-in-github",
        "colab_type": "text"
      },
      "source": [
        "<a href=\"https://colab.research.google.com/github/ikonthomas/SchoolPlay/blob/master/Spark_Example.ipynb\" target=\"_parent\"><img src=\"https://colab.research.google.com/assets/colab-badge.svg\" alt=\"Open In Colab\"/></a>"
      ]
    },
    {
      "metadata": {
        "id": "tiMVfGeYvSiB",
        "colab_type": "code",
        "colab": {}
      },
      "cell_type": "code",
      "source": [
        "import os\n",
        "import sys\n",
        "\n"
      ],
      "execution_count": 0,
      "outputs": []
    },
    {
      "metadata": {
        "id": "kRBgf-d6wpNA",
        "colab_type": "code",
        "colab": {}
      },
      "cell_type": "code",
      "source": [
        "!pip install -q  findspark \n"
      ],
      "execution_count": 0,
      "outputs": []
    },
    {
      "metadata": {
        "id": "__ulbdmFyznL",
        "colab_type": "code",
        "colab": {}
      },
      "cell_type": "code",
      "source": [
        "!pip install -q  pyspark"
      ],
      "execution_count": 0,
      "outputs": []
    },
    {
      "metadata": {
        "id": "wSYq2gE2w25l",
        "colab_type": "code",
        "colab": {}
      },
      "cell_type": "code",
      "source": [
        "import findspark\n"
      ],
      "execution_count": 0,
      "outputs": []
    },
    {
      "metadata": {
        "id": "29wQRkZBw5zN",
        "colab_type": "code",
        "colab": {}
      },
      "cell_type": "code",
      "source": [
        "#findspark.init()"
      ],
      "execution_count": 0,
      "outputs": []
    },
    {
      "metadata": {
        "id": "P7Nwt0yWwEQp",
        "colab_type": "code",
        "colab": {}
      },
      "cell_type": "code",
      "source": [
        "#findspark.init()\n",
        "\n",
        "from pyspark import SparkContext\n",
        "\n",
        "sc = SparkContext(master=\"local[4]\")"
      ],
      "execution_count": 0,
      "outputs": []
    },
    {
      "metadata": {
        "id": "OIiNQMAIvcLj",
        "colab_type": "code",
        "outputId": "77344e26-8fcd-48aa-bd89-aeebb01c8e52",
        "colab": {
          "base_uri": "https://localhost:8080/",
          "height": 70
        }
      },
      "cell_type": "code",
      "source": [
        "import numpy as np\n",
        "\n",
        "TOTAL = 1000000\n",
        "dots = sc.parallelize([2.0 * np.random.random(2) - 1.0 for i in range(TOTAL)]).cache()\n",
        "print(\"Number of random points:\", dots.count())\n",
        "\n",
        "stats = dots.stats()\n",
        "print('Mean:', stats.mean())\n",
        "print('stdev:', stats.stdev())"
      ],
      "execution_count": 0,
      "outputs": [
        {
          "output_type": "stream",
          "text": [
            "('Number of random points:', 1000000)\n",
            "('Mean:', array([ 0.0004128 , -0.00078772]))\n",
            "('stdev:', array([0.57744171, 0.57739288]))\n"
          ],
          "name": "stdout"
        }
      ]
    },
    {
      "metadata": {
        "id": "JkBwRjiXzV0y",
        "colab_type": "code",
        "outputId": "827fe7d2-1693-4fe9-a83a-39e29a998892",
        "colab": {
          "base_uri": "https://localhost:8080/",
          "height": 341
        }
      },
      "cell_type": "code",
      "source": [
        "%matplotlib inline\n",
        "from operator import itemgetter\n",
        "from matplotlib import pyplot as plt\n",
        "\n",
        "plt.figure(figsize = (10, 5))\n",
        "\n",
        "# Plot 1\n",
        "plt.subplot(1, 2, 1)\n",
        "plt.xlim((-1.0, 1.0))\n",
        "plt.ylim((-1.0, 1.0))\n",
        "\n",
        "sample = dots.sample(False, 0.01)\n",
        "X = sample.map(itemgetter(0)).collect()\n",
        "Y = sample.map(itemgetter(1)).collect()\n",
        "plt.scatter(X, Y)\n",
        "\n",
        "# Plot 2\n",
        "plt.subplot(1, 2, 2)\n",
        "plt.xlim((-1.0, 1.0))\n",
        "plt.ylim((-1.0, 1.0))\n",
        "\n",
        "inCircle = lambda v: np.linalg.norm(v) <= 1.0\n",
        "dotsIn = sample.filter(inCircle).cache()\n",
        "dotsOut = sample.filter(lambda v: not inCircle(v)).cache()\n",
        "\n",
        "# inside circle\n",
        "Xin = dotsIn.map(itemgetter(0)).collect()\n",
        "Yin = dotsIn.map(itemgetter(1)).collect()\n",
        "plt.scatter(Xin, Yin, color = 'r')\n",
        "\n",
        "# outside circle\n",
        "Xout = dotsOut.map(itemgetter(0)).collect()\n",
        "Yout = dotsOut.map(itemgetter(1)).collect()\n",
        "plt.scatter(Xout, Yout)"
      ],
      "execution_count": 0,
      "outputs": [
        {
          "output_type": "execute_result",
          "data": {
            "text/plain": [
              "<matplotlib.collections.PathCollection at 0x7f785b724d90>"
            ]
          },
          "metadata": {
            "tags": []
          },
          "execution_count": 19
        },
        {
          "output_type": "display_data",
          "data": {
            "image/png": "[encoded data removed]",
            "text/plain": [
              "<Figure size 720x360 with 2 Axes>"
            ]
          },
          "metadata": {
            "tags": []
          }
        }
      ]
    },
    {
      "metadata": {
        "id": "G7JYrmQVzpTt",
        "colab_type": "code",
        "colab": {}
      },
      "cell_type": "code",
      "source": [
        ""
      ],
      "execution_count": 0,
      "outputs": []
    }
  ]
}