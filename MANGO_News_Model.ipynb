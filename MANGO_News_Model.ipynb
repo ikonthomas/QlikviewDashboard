{
  "nbformat": 4,
  "nbformat_minor": 0,
  "metadata": {
    "colab": {
      "name": "MANGO News Model",
      "provenance": [],
      "collapsed_sections": [],
      "include_colab_link": true
    },
    "kernelspec": {
      "name": "python3",
      "display_name": "Python 3"
    }
  },
  "cells": [
    {
      "cell_type": "markdown",
      "metadata": {
        "id": "view-in-github",
        "colab_type": "text"
      },
      "source": [
        "<a href=\"https://colab.research.google.com/github/ikonthomas/SchoolPlay/blob/master/MANGO_News_Model.ipynb\" target=\"_parent\"><img src=\"https://colab.research.google.com/assets/colab-badge.svg\" alt=\"Open In Colab\"/></a>"
      ]
    },
    {
      "cell_type": "markdown",
      "metadata": {
        "id": "sv7OSgpk93wp",
        "colab_type": "text"
      },
      "source": [
        ""
      ]
    },
    {
      "cell_type": "code",
      "metadata": {
        "id": "EZl1D9tZoqHz",
        "colab_type": "code",
        "outputId": "9763ed35-d60c-47b2-a72b-fd277f4975d6",
        "colab": {
          "base_uri": "https://localhost:8080/",
          "height": 80
        }
      },
      "source": [
        "#Libraries Importing\n",
        "import re\n",
        "import nltk\n",
        "import pandas as pd\n",
        "import numpy as np\n",
        "\n",
        "from bs4 import BeautifulSoup\n",
        "from nltk.corpus import stopwords\n",
        "from nltk.stem.porter import PorterStemmer\n",
        "english_stemmer=nltk.stem.SnowballStemmer('english')\n",
        "\n",
        "from sklearn.feature_selection.univariate_selection import SelectKBest, chi2, f_classif\n",
        "from sklearn.model_selection import train_test_split\n",
        "from sklearn.feature_extraction.text import TfidfVectorizer,CountVectorizer\n",
        "from sklearn.linear_model import SGDClassifier, SGDRegressor,LogisticRegression\n",
        "from sklearn.ensemble import RandomForestClassifier, GradientBoostingClassifier\n",
        "from sklearn.naive_bayes import MultinomialNB\n",
        "from sklearn.metrics import accuracy_score, classification_report, confusion_matrix\n",
        "import random\n",
        "import itertools\n",
        "\n",
        "import sys\n",
        "import os\n",
        "import argparse\n",
        "from sklearn.pipeline import Pipeline\n",
        "from scipy.sparse import csr_matrix\n",
        "from sklearn.feature_extraction.text import CountVectorizer\n",
        "import six\n",
        "from abc import ABCMeta\n",
        "from scipy import sparse\n",
        "from scipy.sparse import issparse\n",
        "from sklearn.base import BaseEstimator, ClassifierMixin\n",
        "from sklearn.utils import check_X_y, check_array\n",
        "from sklearn.utils.extmath import safe_sparse_dot\n",
        "from sklearn.preprocessing import normalize, binarize, LabelBinarizer\n",
        "from sklearn.svm import LinearSVC\n",
        "\n",
        "from keras.preprocessing import sequence\n",
        "from keras.utils import np_utils\n",
        "from keras.models import Sequential\n",
        "from keras.layers.core import Dense, Dropout, Activation, Lambda\n",
        "from keras.layers.embeddings import Embedding\n",
        "from keras.layers.recurrent import LSTM, SimpleRNN, GRU\n",
        "from keras.preprocessing.text import Tokenizer\n",
        "from collections import defaultdict\n",
        "from keras.layers.convolutional import Convolution1D\n",
        "from keras import backend as K\n",
        "import seaborn as sns\n",
        "import matplotlib.pyplot as plt\n",
        "from matplotlib import cm\n",
        "%matplotlib inline\n",
        "plt.style.use('ggplot')\n"
      ],
      "execution_count": 0,
      "outputs": [
        {
          "output_type": "stream",
          "text": [
            "Using TensorFlow backend.\n"
          ],
          "name": "stderr"
        },
        {
          "output_type": "display_data",
          "data": {
            "text/html": [
              "<p style=\"color: red;\">\n",
              "The default version of TensorFlow in Colab will soon switch to TensorFlow 2.x.<br>\n",
              "We recommend you <a href=\"https://www.tensorflow.org/guide/migrate\" target=\"_blank\">upgrade</a> now \n",
              "or ensure your notebook will continue to use TensorFlow 1.x via the <code>%tensorflow_version 1.x</code> magic:\n",
              "<a href=\"https://colab.research.google.com/notebooks/tensorflow_version.ipynb\" target=\"_blank\">more info</a>.</p>\n"
            ],
            "text/plain": [
              "<IPython.core.display.HTML object>"
            ]
          },
          "metadata": {
            "tags": []
          }
        }
      ]
    },
    {
      "cell_type": "code",
      "metadata": {
        "id": "u8em3MMd-RJp",
        "colab_type": "code",
        "colab": {}
      },
      "source": [
        "#Data Importing Returns_News file\n",
        "#we'll use all of the dates up to the end of 2014 as our training data and 2015 going forward as testing data.\n",
        "\n",
        "data = pd.read_csv('https://raw.githubusercontent.com/ikonthomas/SchoolPlay/master/Returns_News.csv')\n",
        "#train = data[data['Date'] < '2015/01/01']\n",
        "#test = data[data['Date'] > '2014/12/31']\n",
        "train = pd.read_csv('https://raw.githubusercontent.com/ikonthomas/SchoolPlay/master/Returns_News_Train.csv')\n",
        "test = pd.read_csv('https://raw.githubusercontent.com/ikonthomas/SchoolPlay/master/Returns_News_Test.csv')"
      ],
      "execution_count": 0,
      "outputs": []
    },
    {
      "cell_type": "code",
      "metadata": {
        "id": "2wIlRiVpAv3w",
        "colab_type": "code",
        "outputId": "8898ad03-0028-4d13-fb92-c856f53b3f84",
        "colab": {
          "base_uri": "https://localhost:8080/",
          "height": 544
        }
      },
      "source": [
        "data.head()"
      ],
      "execution_count": 0,
      "outputs": [
        {
          "output_type": "execute_result",
          "data": {
            "text/html": [
              "<div>\n",
              "<style scoped>\n",
              "    .dataframe tbody tr th:only-of-type {\n",
              "        vertical-align: middle;\n",
              "    }\n",
              "\n",
              "    .dataframe tbody tr th {\n",
              "        vertical-align: top;\n",
              "    }\n",
              "\n",
              "    .dataframe thead th {\n",
              "        text-align: right;\n",
              "    }\n",
              "</style>\n",
              "<table border=\"1\" class=\"dataframe\">\n",
              "  <thead>\n",
              "    <tr style=\"text-align: right;\">\n",
              "      <th></th>\n",
              "      <th>Date</th>\n",
              "      <th>Label</th>\n",
              "      <th>Top1</th>\n",
              "      <th>Top2</th>\n",
              "      <th>Top3</th>\n",
              "      <th>Top4</th>\n",
              "      <th>Top5</th>\n",
              "      <th>Top6</th>\n",
              "      <th>Top7</th>\n",
              "      <th>Top8</th>\n",
              "      <th>Top9</th>\n",
              "      <th>Top10</th>\n",
              "    </tr>\n",
              "  </thead>\n",
              "  <tbody>\n",
              "    <tr>\n",
              "      <th>0</th>\n",
              "      <td>02/01/2009</td>\n",
              "      <td>1</td>\n",
              "      <td>b'Australia refuses Bush administration reques...</td>\n",
              "      <td>b'Propaganda war: trusting what we see?'</td>\n",
              "      <td>b\"CNN: US weapons 'killing innocent civilians'...</td>\n",
              "      <td>b'\"Let us not forget that it was Israel, which...</td>\n",
              "      <td>b\"Northern Ireland man discovers 'secret of in...</td>\n",
              "      <td>b'Lynndie England: Life after Abu Ghraib'</td>\n",
              "      <td>b'Zimbabwean lawyer: Law has broken down - CNN...</td>\n",
              "      <td>b'Nobel Peace Prize laureate Shirin Ebadi of I...</td>\n",
              "      <td>b'Beijing moves to stifle reform calls, called...</td>\n",
              "      <td>b'Israels Goal - Ending Hamas Rule, Rocket Fir...</td>\n",
              "    </tr>\n",
              "    <tr>\n",
              "      <th>1</th>\n",
              "      <td>05/01/2009</td>\n",
              "      <td>1</td>\n",
              "      <td>b'Palestine Girl stands up to Israel Soldier '</td>\n",
              "      <td>b'Israeli Strike Kills 40 at U.N. run School i...</td>\n",
              "      <td>b'Norwegian doctor in Gaza: \"This is an all-ou...</td>\n",
              "      <td>b'Between 600,000 and 700,000 Gazans have no w...</td>\n",
              "      <td>b'Ron Paul: \"No one mentions the tragedy in Ga...</td>\n",
              "      <td>b'UK police have been given the power to hack ...</td>\n",
              "      <td>b\"Strike on Gaza school 'kills 40'\"</td>\n",
              "      <td>b\"GAZA PIC's. WARNING :VERY GRAPHIC!!!!!!!!!\"</td>\n",
              "      <td>b'\"We are wading in death, blood, and amputees...</td>\n",
              "      <td>b'Several European countries say they have suf...</td>\n",
              "    </tr>\n",
              "    <tr>\n",
              "      <th>2</th>\n",
              "      <td>06/01/2009</td>\n",
              "      <td>1</td>\n",
              "      <td>b'Anyone know if this is true?'</td>\n",
              "      <td>b\"British Gov't wants private firms to build $...</td>\n",
              "      <td>b'Israeli Tank fire kills dozens at UN School....</td>\n",
              "      <td>b'Bush Aides: \"Historians will judge Bush.\" Re...</td>\n",
              "      <td>b\"Russia has cut off all Europe's gas supplies...</td>\n",
              "      <td>b'\"Israel, not the Palestinians, has opposed i...</td>\n",
              "      <td>b'Venezuela expels Israel envoy over Gaza atta...</td>\n",
              "      <td>b'This is what happens on the streets of Israe...</td>\n",
              "      <td>b'Israeli soldiers entered their building and ...</td>\n",
              "      <td>b'\"Almost a third of the 689 Palestinians kill...</td>\n",
              "    </tr>\n",
              "    <tr>\n",
              "      <th>3</th>\n",
              "      <td>07/01/2009</td>\n",
              "      <td>0</td>\n",
              "      <td>b'You are being lied to about pirates'</td>\n",
              "      <td>b'Rockets hit Israel from Lebanon'</td>\n",
              "      <td>b'I arrived in Israel 40 years ago. It took me...</td>\n",
              "      <td>b'Red Cross finds four small children in Gaza,...</td>\n",
              "      <td>b'UN: Israel kills driver on aid mission to Gaza'</td>\n",
              "      <td>b'Israel kills driver of UN truck on aid missi...</td>\n",
              "      <td>b'These photos, taken in Gaza in 2006, show th...</td>\n",
              "      <td>b\"The Bush Administration's Most Despicable Act\"</td>\n",
              "      <td>b\"TED: Hans Rosling: Debunking third-world myt...</td>\n",
              "      <td>b'Gaza is full-blown humanitarian crisis'</td>\n",
              "    </tr>\n",
              "    <tr>\n",
              "      <th>4</th>\n",
              "      <td>08/01/2009</td>\n",
              "      <td>1</td>\n",
              "      <td>b'Vatican: Gaza is a giant concentration camp'</td>\n",
              "      <td>b'Israel shelled Gaza house crowded with civil...</td>\n",
              "      <td>b'Red Cross: Israel breaking international law...</td>\n",
              "      <td>b'Israeli army ordered 70 persons of extended ...</td>\n",
              "      <td>b'Israel Faces Mounting Outcry on Gaza War - N...</td>\n",
              "      <td>b'Israel bombs a shelter, kills 30 civilians'</td>\n",
              "      <td>b'Israel accused of delaying medical access to...</td>\n",
              "      <td>b'Israel to continue offensive despite UN reso...</td>\n",
              "      <td>b\"The Army's Newest Recruitment Technique is a...</td>\n",
              "      <td>b\"Atheist Bus Campaign is 'offensive', say 50 ...</td>\n",
              "    </tr>\n",
              "  </tbody>\n",
              "</table>\n",
              "</div>"
            ],
            "text/plain": [
              "         Date  ...                                              Top10\n",
              "0  02/01/2009  ...  b'Israels Goal - Ending Hamas Rule, Rocket Fir...\n",
              "1  05/01/2009  ...  b'Several European countries say they have suf...\n",
              "2  06/01/2009  ...  b'\"Almost a third of the 689 Palestinians kill...\n",
              "3  07/01/2009  ...          b'Gaza is full-blown humanitarian crisis'\n",
              "4  08/01/2009  ...  b\"Atheist Bus Campaign is 'offensive', say 50 ...\n",
              "\n",
              "[5 rows x 12 columns]"
            ]
          },
          "metadata": {
            "tags": []
          },
          "execution_count": 50
        }
      ]
    },
    {
      "cell_type": "code",
      "metadata": {
        "id": "asXay02HA2Du",
        "colab_type": "code",
        "outputId": "73ab66bd-f88f-4915-a427-c6fe3c47d255",
        "colab": {
          "base_uri": "https://localhost:8080/",
          "height": 1000
        }
      },
      "source": [
        "train.tail(10)"
      ],
      "execution_count": 0,
      "outputs": [
        {
          "output_type": "execute_result",
          "data": {
            "text/html": [
              "<div>\n",
              "<style scoped>\n",
              "    .dataframe tbody tr th:only-of-type {\n",
              "        vertical-align: middle;\n",
              "    }\n",
              "\n",
              "    .dataframe tbody tr th {\n",
              "        vertical-align: top;\n",
              "    }\n",
              "\n",
              "    .dataframe thead th {\n",
              "        text-align: right;\n",
              "    }\n",
              "</style>\n",
              "<table border=\"1\" class=\"dataframe\">\n",
              "  <thead>\n",
              "    <tr style=\"text-align: right;\">\n",
              "      <th></th>\n",
              "      <th>Date</th>\n",
              "      <th>Label</th>\n",
              "      <th>Top1</th>\n",
              "      <th>Top2</th>\n",
              "      <th>Top3</th>\n",
              "      <th>Top4</th>\n",
              "      <th>Top5</th>\n",
              "      <th>Top6</th>\n",
              "      <th>Top7</th>\n",
              "      <th>Top8</th>\n",
              "      <th>Top9</th>\n",
              "      <th>Top10</th>\n",
              "    </tr>\n",
              "  </thead>\n",
              "  <tbody>\n",
              "    <tr>\n",
              "      <th>1500</th>\n",
              "      <td>17/12/2014</td>\n",
              "      <td>1</td>\n",
              "      <td>The United States will normalize diplomatic re...</td>\n",
              "      <td>Iraq: 150 women executed after refusing to mar...</td>\n",
              "      <td>Foreign exchange in Finland no longer recogniz...</td>\n",
              "      <td>Russia says Sweden smokes too much Weed and th...</td>\n",
              "      <td>About 15,000 people show up for Anti-Islam mar...</td>\n",
              "      <td>Russians hurried to change their savings and p...</td>\n",
              "      <td>Iran had warned that Sydney attacker was unsta...</td>\n",
              "      <td>Pakistan Lifts Death Penalty Ban After Massacre</td>\n",
              "      <td>Two Blasts Outside Girls College Near Peshawar</td>\n",
              "      <td>Putin's cronies lose $50 billion</td>\n",
              "    </tr>\n",
              "    <tr>\n",
              "      <th>1501</th>\n",
              "      <td>18/12/2014</td>\n",
              "      <td>1</td>\n",
              "      <td>Iran this week unveiled a monument to Jewish s...</td>\n",
              "      <td>Activists to Drop 'Interview' DVDs Over North ...</td>\n",
              "      <td>Curiosity Rover Drills Into Mars Rock, Finds W...</td>\n",
              "      <td>Vladimir Putin compares Russia to cornered bea...</td>\n",
              "      <td>Qatar hires \"$8 fake fans\" to fill empty stadi...</td>\n",
              "      <td>Pope Francis played key role in U.S.-Cuba deal</td>\n",
              "      <td>Belarussian President Demands Russia Trade Be ...</td>\n",
              "      <td>Navajos reclaim sacred masks at Paris auction</td>\n",
              "      <td>Nearly 97 percent of the airstrikes against IS...</td>\n",
              "      <td>Zakiur Rehman Lakhvi, the main accused in the ...</td>\n",
              "    </tr>\n",
              "    <tr>\n",
              "      <th>1502</th>\n",
              "      <td>19/12/2014</td>\n",
              "      <td>1</td>\n",
              "      <td>Claims that boys were murdered by VIP sex ring...</td>\n",
              "      <td>Kurds recapture large area from ISIS</td>\n",
              "      <td>Sydney's chief Islamic funeral director yester...</td>\n",
              "      <td>Apple is failing to protect workers in Chinese...</td>\n",
              "      <td>A suitcase-sized Canadian satellite whose fund...</td>\n",
              "      <td>Ukraine forms 'ministry of truth' to regulate ...</td>\n",
              "      <td>Archaeologists working on a site near Stonehen...</td>\n",
              "      <td>Seabirds 'steer clear' of offshore wind farms....</td>\n",
              "      <td>General Motor, Audi and Jaguar halt car sales ...</td>\n",
              "      <td>80% of British Public Want Greens Included in ...</td>\n",
              "    </tr>\n",
              "    <tr>\n",
              "      <th>1503</th>\n",
              "      <td>22/12/2014</td>\n",
              "      <td>1</td>\n",
              "      <td>Pirate Bay Domain Back Online, Waving a Pirate...</td>\n",
              "      <td>Argentine Court rules: Orang Utans are \"non-hu...</td>\n",
              "      <td>Peru Is Now Giving Free Solar Power To Its 2 M...</td>\n",
              "      <td>New York Times calls for Cheney, Bush official...</td>\n",
              "      <td>Pope Francis issued a blistering critique Mond...</td>\n",
              "      <td>Polio has Almost Been Completely Eradicated in...</td>\n",
              "      <td>CIA's how to be a travelling spy guide publish...</td>\n",
              "      <td>NKorea threatens strikes on US, warned that it...</td>\n",
              "      <td>North Korea Now Claims the US Government Made ...</td>\n",
              "      <td>UK officials named in pedophile dossier</td>\n",
              "    </tr>\n",
              "    <tr>\n",
              "      <th>1504</th>\n",
              "      <td>23/12/2014</td>\n",
              "      <td>1</td>\n",
              "      <td>North Korea's internet is offline; massive DDO...</td>\n",
              "      <td>SAUDI OIL MINISTER: I Don't Care If Prices Cra...</td>\n",
              "      <td>ISIL sex slavery has pushed women and girls fr...</td>\n",
              "      <td>Ukraine votes to drop neutral NATO status</td>\n",
              "      <td>The United States on Monday slammed North Kore...</td>\n",
              "      <td>Oil spill sullies World Heritage Site home of ...</td>\n",
              "      <td>Russian diplomat: \"Ukraine's renunciation of i...</td>\n",
              "      <td>$300,000 in gold missing from Ukraine Central ...</td>\n",
              "      <td>Tunisia election: anti-Islamist party claims v...</td>\n",
              "      <td>US Corporations claim billion in Assets in Cub...</td>\n",
              "    </tr>\n",
              "    <tr>\n",
              "      <th>1505</th>\n",
              "      <td>24/12/2014</td>\n",
              "      <td>1</td>\n",
              "      <td>Death toll among Qatars 2022 World Cup workers...</td>\n",
              "      <td>Fishing Supertrawlers to be banned permanently...</td>\n",
              "      <td>Indian telecommunications company Airtel viola...</td>\n",
              "      <td>North Korea's Internet is down again; second b...</td>\n",
              "      <td>Jakarta to ban virginity tests for female civi...</td>\n",
              "      <td>Workers at Chinese iPhone factories are pressu...</td>\n",
              "      <td>Thousands in Spain protest ban on demonstratio...</td>\n",
              "      <td>London activists occupy 5-storey former bank i...</td>\n",
              "      <td>Russian Inflation Passes 10%, Indicates Pricin...</td>\n",
              "      <td>Australia records biggest emissions drop in a ...</td>\n",
              "    </tr>\n",
              "    <tr>\n",
              "      <th>1506</th>\n",
              "      <td>26/12/2014</td>\n",
              "      <td>1</td>\n",
              "      <td>Saudis are eagerly awaiting the approval of a ...</td>\n",
              "      <td>Due to the fall in oil prices, Saudi Arabia is...</td>\n",
              "      <td>Bill giving government the power to shutdown t...</td>\n",
              "      <td>A struggle for women's rights is brewing withi...</td>\n",
              "      <td>Putin cancels New Year's Holiday for governmen...</td>\n",
              "      <td>Ireland is siding with Microsoft in its legal ...</td>\n",
              "      <td>More than 80 people including women and childr...</td>\n",
              "      <td>The Syrian Army has killed nearly 5,000 Islami...</td>\n",
              "      <td>ISIS governor of Mosul killed in airstrikes</td>\n",
              "      <td>Court clears way for clinically dead pregnant ...</td>\n",
              "    </tr>\n",
              "    <tr>\n",
              "      <th>1507</th>\n",
              "      <td>29/12/2014</td>\n",
              "      <td>0</td>\n",
              "      <td>Solar Power Storage Prices Drop 25% In Germany...</td>\n",
              "      <td>North Korea Hit Again By Internet Outage; Expe...</td>\n",
              "      <td>ARCHAEOLOGY - Massive ancient underground city...</td>\n",
              "      <td>Reopen investigation into Westminster pedophil...</td>\n",
              "      <td>Taliban declare 'defeat' of U.S., allies in Af...</td>\n",
              "      <td>British Falklands defence review after militar...</td>\n",
              "      <td>Virgin Confirms Fault On Plane Circling Over UK</td>\n",
              "      <td>Photo of 'women murdered for refusing sex jiha...</td>\n",
              "      <td>The German chancellor's office has fallen vict...</td>\n",
              "      <td>Thirty-seven children whose parents were kille...</td>\n",
              "    </tr>\n",
              "    <tr>\n",
              "      <th>1508</th>\n",
              "      <td>30/12/2014</td>\n",
              "      <td>0</td>\n",
              "      <td>China businessman jailed for 13 years for buyi...</td>\n",
              "      <td>AirAsia live: Emergency slide, plane door seen...</td>\n",
              "      <td>AirAsia plane wreckage found, bodies being rec...</td>\n",
              "      <td>Scotland confirms case of Ebola - Ebola cases ...</td>\n",
              "      <td>Pope Francis to Catholics: It's time to take a...</td>\n",
              "      <td>Oil hits five-and-a-half-year low below $57 on...</td>\n",
              "      <td>\"Lizard Squad\" members who ruined Christmas fo...</td>\n",
              "      <td>Two students in Thailand face up to 15 years i...</td>\n",
              "      <td>New Research Blames Insiders Not North Korea f...</td>\n",
              "      <td>Russian ruble drops 7 percent as economy shrinks</td>\n",
              "    </tr>\n",
              "    <tr>\n",
              "      <th>1509</th>\n",
              "      <td>31/12/2014</td>\n",
              "      <td>0</td>\n",
              "      <td>AirAsia flight found at the bottom of the Java...</td>\n",
              "      <td>North Korean defector details 'human experimen...</td>\n",
              "      <td>Korean Air ex-executive Cho Hyun-ah arrested -...</td>\n",
              "      <td>South Korean to drop Sony film \"The Interview\"...</td>\n",
              "      <td>U.S. opening of oil export widens battle: The ...</td>\n",
              "      <td>FBI agents investigating the Sony Pictures hac...</td>\n",
              "      <td>Indian Government Orders Blocking of 32 Websit...</td>\n",
              "      <td>Russia annual inflation jumps to 11.4% as roub...</td>\n",
              "      <td>WikiLeaks claims employees Google mail, metada...</td>\n",
              "      <td>Militant mistakenly broadcasts his location</td>\n",
              "    </tr>\n",
              "  </tbody>\n",
              "</table>\n",
              "</div>"
            ],
            "text/plain": [
              "            Date  ...                                              Top10\n",
              "1500  17/12/2014  ...                   Putin's cronies lose $50 billion\n",
              "1501  18/12/2014  ...  Zakiur Rehman Lakhvi, the main accused in the ...\n",
              "1502  19/12/2014  ...  80% of British Public Want Greens Included in ...\n",
              "1503  22/12/2014  ...            UK officials named in pedophile dossier\n",
              "1504  23/12/2014  ...  US Corporations claim billion in Assets in Cub...\n",
              "1505  24/12/2014  ...  Australia records biggest emissions drop in a ...\n",
              "1506  26/12/2014  ...  Court clears way for clinically dead pregnant ...\n",
              "1507  29/12/2014  ...  Thirty-seven children whose parents were kille...\n",
              "1508  30/12/2014  ...   Russian ruble drops 7 percent as economy shrinks\n",
              "1509  31/12/2014  ...        Militant mistakenly broadcasts his location\n",
              "\n",
              "[10 rows x 12 columns]"
            ]
          },
          "metadata": {
            "tags": []
          },
          "execution_count": 51
        }
      ]
    },
    {
      "cell_type": "code",
      "metadata": {
        "id": "A70i38rgCEjB",
        "colab_type": "code",
        "outputId": "127fd27e-e8bb-4716-f42a-390a7001a09c",
        "colab": {
          "base_uri": "https://localhost:8080/",
          "height": 544
        }
      },
      "source": [
        "test.head()"
      ],
      "execution_count": 0,
      "outputs": [
        {
          "output_type": "execute_result",
          "data": {
            "text/html": [
              "<div>\n",
              "<style scoped>\n",
              "    .dataframe tbody tr th:only-of-type {\n",
              "        vertical-align: middle;\n",
              "    }\n",
              "\n",
              "    .dataframe tbody tr th {\n",
              "        vertical-align: top;\n",
              "    }\n",
              "\n",
              "    .dataframe thead th {\n",
              "        text-align: right;\n",
              "    }\n",
              "</style>\n",
              "<table border=\"1\" class=\"dataframe\">\n",
              "  <thead>\n",
              "    <tr style=\"text-align: right;\">\n",
              "      <th></th>\n",
              "      <th>Date</th>\n",
              "      <th>Label</th>\n",
              "      <th>Top1</th>\n",
              "      <th>Top2</th>\n",
              "      <th>Top3</th>\n",
              "      <th>Top4</th>\n",
              "      <th>Top5</th>\n",
              "      <th>Top6</th>\n",
              "      <th>Top7</th>\n",
              "      <th>Top8</th>\n",
              "      <th>Top9</th>\n",
              "      <th>Top10</th>\n",
              "    </tr>\n",
              "  </thead>\n",
              "  <tbody>\n",
              "    <tr>\n",
              "      <th>0</th>\n",
              "      <td>02/01/2015</td>\n",
              "      <td>1</td>\n",
              "      <td>Most cases of cancer are the result of sheer b...</td>\n",
              "      <td>Iran dismissed United States efforts to fight ...</td>\n",
              "      <td>Poll: One in 8 Germans would join anti-Muslim ...</td>\n",
              "      <td>UK royal family's Prince Andrew named in US la...</td>\n",
              "      <td>Some 40 asylum-seekers refused to leave the bu...</td>\n",
              "      <td>Pakistani boat blows self up after India navy ...</td>\n",
              "      <td>Sweden hit by third mosque arson attack in a week</td>\n",
              "      <td>940 cars set alight during French New Year</td>\n",
              "      <td>Salaries for top CEOs rose twice as fast as av...</td>\n",
              "      <td>Norway violated equal-pay law, judge says: Jud...</td>\n",
              "    </tr>\n",
              "    <tr>\n",
              "      <th>1</th>\n",
              "      <td>05/01/2015</td>\n",
              "      <td>0</td>\n",
              "      <td>Moscow-&amp;gt;Beijing high speed train will reduc...</td>\n",
              "      <td>Two ancient tombs were discovered in Egypt on ...</td>\n",
              "      <td>China complains to Pyongyang after N Korean so...</td>\n",
              "      <td>Scotland Headed Towards Being Fossil Fuel-Free...</td>\n",
              "      <td>Prime Minister Shinzo Abe said Monday he will ...</td>\n",
              "      <td>Sex slave at centre of Prince Andrew scandal f...</td>\n",
              "      <td>Gay relative of Hamas founder faces deportatio...</td>\n",
              "      <td>The number of female drug addicts in Iran has ...</td>\n",
              "      <td>After Decades of Searching, the Causeway for t...</td>\n",
              "      <td>India lost 64 tigers in 2014</td>\n",
              "    </tr>\n",
              "    <tr>\n",
              "      <th>2</th>\n",
              "      <td>06/01/2015</td>\n",
              "      <td>0</td>\n",
              "      <td>US oil falls below $50 a barrel</td>\n",
              "      <td>Toyota gives away 5,680 fuel cell patents to b...</td>\n",
              "      <td>Young Indian couple who had been granted polic...</td>\n",
              "      <td>A senior figure in Islamic States self-declare...</td>\n",
              "      <td>Fukushima rice passes radiation tests for 1st ...</td>\n",
              "      <td>Nearly all Spanish parties guilty of financial...</td>\n",
              "      <td>King Abdullah to abdicate Saudi Throne</td>\n",
              "      <td>Taliban Commander Caught Networking On LinkedIn</td>\n",
              "      <td>Mexican missing students: mayor's wife charged...</td>\n",
              "      <td>New York Times reporter James Risen refused on...</td>\n",
              "    </tr>\n",
              "    <tr>\n",
              "      <th>3</th>\n",
              "      <td>07/01/2015</td>\n",
              "      <td>1</td>\n",
              "      <td>'Shots fired' at French magazine HQ</td>\n",
              "      <td>90% of Bibi Netanyahus Campaign Funds From U.S.</td>\n",
              "      <td>ISIS behead street magician for entertaining c...</td>\n",
              "      <td>Denmark sets new world record in renewable ene...</td>\n",
              "      <td>ISIS Closes Schools In Syria, Leaving 670000 C...</td>\n",
              "      <td>The European Union wants Turkey to explain how...</td>\n",
              "      <td>10 people have died in a shooting at the headq...</td>\n",
              "      <td>Most Earth-like planet ever discovered could b...</td>\n",
              "      <td>New questions raised about U.S.-Saudi relation...</td>\n",
              "      <td>Massive hunt underway for gunmen in Paris terr...</td>\n",
              "    </tr>\n",
              "    <tr>\n",
              "      <th>4</th>\n",
              "      <td>08/01/2015</td>\n",
              "      <td>1</td>\n",
              "      <td>New Charlie Hebdo issue to come out next week:...</td>\n",
              "      <td>Ahmed Merabet, Cop Killed In Paris Attacks, Wa...</td>\n",
              "      <td>Youngest Suspect in Charlie Hebdo Attack Turns...</td>\n",
              "      <td>Grenades thrown at a mosque in Le Mans, west o...</td>\n",
              "      <td>Danish newspaper to print Charlie Hebdo cartoo...</td>\n",
              "      <td>Muslim politician from India offers $8M to Cha...</td>\n",
              "      <td>Vladimir Putin has condemned a deadly terroris...</td>\n",
              "      <td>Turkey is trying to hide any evidence that hol...</td>\n",
              "      <td>Danish Paper That Published 12 Muhammad Cartoo...</td>\n",
              "      <td>Two Charlie Hebdo attackers located in north F...</td>\n",
              "    </tr>\n",
              "  </tbody>\n",
              "</table>\n",
              "</div>"
            ],
            "text/plain": [
              "         Date  ...                                              Top10\n",
              "0  02/01/2015  ...  Norway violated equal-pay law, judge says: Jud...\n",
              "1  05/01/2015  ...                       India lost 64 tigers in 2014\n",
              "2  06/01/2015  ...  New York Times reporter James Risen refused on...\n",
              "3  07/01/2015  ...  Massive hunt underway for gunmen in Paris terr...\n",
              "4  08/01/2015  ...  Two Charlie Hebdo attackers located in north F...\n",
              "\n",
              "[5 rows x 12 columns]"
            ]
          },
          "metadata": {
            "tags": []
          },
          "execution_count": 52
        }
      ]
    },
    {
      "cell_type": "code",
      "metadata": {
        "id": "lctxTykcCGQl",
        "colab_type": "code",
        "outputId": "c8710f68-f2eb-43c1-b3ea-dde342236f0b",
        "colab": {
          "base_uri": "https://localhost:8080/",
          "height": 34
        }
      },
      "source": [
        "#Processing our Data\n",
        "#Transforming the news headlines into the number of words.\n",
        "\n",
        "trainheadlines = []\n",
        "for row in range(0,len(train.index)):\n",
        "    trainheadlines.append(' '.join(str(x) for x in train.iloc[row,2:27]))\n",
        "basicvectorizer = CountVectorizer()\n",
        "basictrain = basicvectorizer.fit_transform(trainheadlines)\n",
        "print(basictrain.shape)\n"
      ],
      "execution_count": 0,
      "outputs": [
        {
          "output_type": "stream",
          "text": [
            "(1510, 20918)\n"
          ],
          "name": "stdout"
        }
      ]
    },
    {
      "cell_type": "code",
      "metadata": {
        "id": "knEtMLfhInqB",
        "colab_type": "code",
        "outputId": "551dd1f5-2040-4a6b-c29a-85a4e3bd6bb7",
        "colab": {
          "base_uri": "https://localhost:8080/",
          "height": 88
        }
      },
      "source": [
        "\n",
        "#Algorithm: Logic Regression\n",
        "\n",
        "#Input: the counts of single words\n",
        "\n",
        "basicmodel = LogisticRegression()\n",
        "basicmodel = basicmodel.fit(basictrain, train[\"Label\"])\n",
        "testheadlines = []\n",
        "for row in range(0,len(test.index)):\n",
        "    testheadlines.append(' '.join(str(x) for x in test.iloc[row,2:27]))\n",
        "basictest = basicvectorizer.transform(testheadlines)\n",
        "preds1 = basicmodel.predict(basictest)\n",
        "acc1=accuracy_score(test['Label'], preds1)\n",
        "print('Logistic Regression 1 accuracy: ',acc1 )"
      ],
      "execution_count": 0,
      "outputs": [
        {
          "output_type": "stream",
          "text": [
            "/usr/local/lib/python3.6/dist-packages/sklearn/linear_model/logistic.py:432: FutureWarning: Default solver will be changed to 'lbfgs' in 0.22. Specify a solver to silence this warning.\n",
            "  FutureWarning)\n"
          ],
          "name": "stderr"
        },
        {
          "output_type": "stream",
          "text": [
            "Logistic Regression 1 accuracy:  0.4880952380952381\n"
          ],
          "name": "stdout"
        }
      ]
    },
    {
      "cell_type": "markdown",
      "metadata": {
        "id": "QWNAsAJ3JRG8",
        "colab_type": "text"
      },
      "source": [
        "The accuracy is only 49%"
      ]
    },
    {
      "cell_type": "code",
      "metadata": {
        "id": "XzsB-GWFJWMg",
        "colab_type": "code",
        "outputId": "3621446f-1f40-4c90-86f5-69c6a0c5e991",
        "colab": {
          "base_uri": "https://localhost:8080/",
          "height": 204
        }
      },
      "source": [
        "basicwords = basicvectorizer.get_feature_names()\n",
        "basiccoeffs = basicmodel.coef_.tolist()[0]\n",
        "coeffdf = pd.DataFrame({'Word' : basicwords, \n",
        "                        'Coefficient' : basiccoeffs})\n",
        "coeffdf = coeffdf.sort_values(['Coefficient', 'Word'], ascending=[0, 1])\n",
        "coeffdf.head()"
      ],
      "execution_count": 0,
      "outputs": [
        {
          "output_type": "execute_result",
          "data": {
            "text/html": [
              "<div>\n",
              "<style scoped>\n",
              "    .dataframe tbody tr th:only-of-type {\n",
              "        vertical-align: middle;\n",
              "    }\n",
              "\n",
              "    .dataframe tbody tr th {\n",
              "        vertical-align: top;\n",
              "    }\n",
              "\n",
              "    .dataframe thead th {\n",
              "        text-align: right;\n",
              "    }\n",
              "</style>\n",
              "<table border=\"1\" class=\"dataframe\">\n",
              "  <thead>\n",
              "    <tr style=\"text-align: right;\">\n",
              "      <th></th>\n",
              "      <th>Word</th>\n",
              "      <th>Coefficient</th>\n",
              "    </tr>\n",
              "  </thead>\n",
              "  <tbody>\n",
              "    <tr>\n",
              "      <th>17375</th>\n",
              "      <td>so</td>\n",
              "      <td>0.777398</td>\n",
              "    </tr>\n",
              "    <tr>\n",
              "      <th>11422</th>\n",
              "      <td>makes</td>\n",
              "      <td>0.746689</td>\n",
              "    </tr>\n",
              "    <tr>\n",
              "      <th>1512</th>\n",
              "      <td>another</td>\n",
              "      <td>0.605534</td>\n",
              "    </tr>\n",
              "    <tr>\n",
              "      <th>8632</th>\n",
              "      <td>hamas</td>\n",
              "      <td>0.573705</td>\n",
              "    </tr>\n",
              "    <tr>\n",
              "      <th>20339</th>\n",
              "      <td>we</td>\n",
              "      <td>0.554730</td>\n",
              "    </tr>\n",
              "  </tbody>\n",
              "</table>\n",
              "</div>"
            ],
            "text/plain": [
              "          Word  Coefficient\n",
              "17375       so     0.777398\n",
              "11422    makes     0.746689\n",
              "1512   another     0.605534\n",
              "8632     hamas     0.573705\n",
              "20339       we     0.554730"
            ]
          },
          "metadata": {
            "tags": []
          },
          "execution_count": 55
        }
      ]
    },
    {
      "cell_type": "code",
      "metadata": {
        "id": "arfVDKFbJ_cB",
        "colab_type": "code",
        "outputId": "ff2981e7-6e8f-4a2f-d522-b1d9cc5c5c15",
        "colab": {
          "base_uri": "https://localhost:8080/",
          "height": 204
        }
      },
      "source": [
        "coeffdf.tail()"
      ],
      "execution_count": 0,
      "outputs": [
        {
          "output_type": "execute_result",
          "data": {
            "text/html": [
              "<div>\n",
              "<style scoped>\n",
              "    .dataframe tbody tr th:only-of-type {\n",
              "        vertical-align: middle;\n",
              "    }\n",
              "\n",
              "    .dataframe tbody tr th {\n",
              "        vertical-align: top;\n",
              "    }\n",
              "\n",
              "    .dataframe thead th {\n",
              "        text-align: right;\n",
              "    }\n",
              "</style>\n",
              "<table border=\"1\" class=\"dataframe\">\n",
              "  <thead>\n",
              "    <tr style=\"text-align: right;\">\n",
              "      <th></th>\n",
              "      <th>Word</th>\n",
              "      <th>Coefficient</th>\n",
              "    </tr>\n",
              "  </thead>\n",
              "  <tbody>\n",
              "    <tr>\n",
              "      <th>17996</th>\n",
              "      <td>strike</td>\n",
              "      <td>-0.552088</td>\n",
              "    </tr>\n",
              "    <tr>\n",
              "      <th>9742</th>\n",
              "      <td>injured</td>\n",
              "      <td>-0.582503</td>\n",
              "    </tr>\n",
              "    <tr>\n",
              "      <th>3812</th>\n",
              "      <td>chief</td>\n",
              "      <td>-0.599710</td>\n",
              "    </tr>\n",
              "    <tr>\n",
              "      <th>19343</th>\n",
              "      <td>turkey</td>\n",
              "      <td>-0.665417</td>\n",
              "    </tr>\n",
              "    <tr>\n",
              "      <th>4767</th>\n",
              "      <td>country</td>\n",
              "      <td>-0.718426</td>\n",
              "    </tr>\n",
              "  </tbody>\n",
              "</table>\n",
              "</div>"
            ],
            "text/plain": [
              "          Word  Coefficient\n",
              "17996   strike    -0.552088\n",
              "9742   injured    -0.582503\n",
              "3812     chief    -0.599710\n",
              "19343   turkey    -0.665417\n",
              "4767   country    -0.718426"
            ]
          },
          "metadata": {
            "tags": []
          },
          "execution_count": 56
        }
      ]
    },
    {
      "cell_type": "markdown",
      "metadata": {
        "id": "xQP2eB65Kly-",
        "colab_type": "text"
      },
      "source": [
        "Logistic Regression 2\n",
        "\n",
        "\n",
        "Input: the counts of phrases with two connected words(exclude words which are too common like \"a\" ,\"an\" ,\"the\" and words too uncommon of which counts are too small )\n",
        "\n",
        "We delete phrases of which frequency lower than 0.03 or higher than 0.97\n",
        "\n"
      ]
    },
    {
      "cell_type": "code",
      "metadata": {
        "id": "DsZW4-DFKAS7",
        "colab_type": "code",
        "outputId": "cb7fc0b0-4a2d-4736-c7dd-eb589f07afb5",
        "colab": {
          "base_uri": "https://localhost:8080/",
          "height": 34
        }
      },
      "source": [
        "advancedvectorizer = TfidfVectorizer( min_df=0.03, max_df=0.97, max_features = 200000, ngram_range = (2, 2))\n",
        "advancedtrain = advancedvectorizer.fit_transform(trainheadlines)\n",
        "print(advancedtrain.shape)"
      ],
      "execution_count": 0,
      "outputs": [
        {
          "output_type": "stream",
          "text": [
            "(1510, 178)\n"
          ],
          "name": "stdout"
        }
      ]
    },
    {
      "cell_type": "code",
      "metadata": {
        "id": "G7yPtW2SMOwp",
        "colab_type": "code",
        "outputId": "8ccbab0e-1c93-49bd-ffd7-a807889efdaf",
        "colab": {
          "base_uri": "https://localhost:8080/",
          "height": 88
        }
      },
      "source": [
        "advancedmodel = LogisticRegression()\n",
        "advancedmodel = advancedmodel.fit(advancedtrain, train[\"Label\"])\n",
        "testheadlines = []\n",
        "for row in range(0,len(test.index)):\n",
        "    testheadlines.append(' '.join(str(x) for x in test.iloc[row,2:27]))\n",
        "advancedtest = advancedvectorizer.transform(testheadlines)\n",
        "preds2 = advancedmodel.predict(advancedtest)\n",
        "acc2=accuracy_score(test['Label'], preds2)\n",
        "print('Logistic Regression 2 accuracy: ', acc2)"
      ],
      "execution_count": 0,
      "outputs": [
        {
          "output_type": "stream",
          "text": [
            "Logistic Regression 2 accuracy:  0.5357142857142857\n"
          ],
          "name": "stdout"
        },
        {
          "output_type": "stream",
          "text": [
            "/usr/local/lib/python3.6/dist-packages/sklearn/linear_model/logistic.py:432: FutureWarning: Default solver will be changed to 'lbfgs' in 0.22. Specify a solver to silence this warning.\n",
            "  FutureWarning)\n"
          ],
          "name": "stderr"
        }
      ]
    },
    {
      "cell_type": "markdown",
      "metadata": {
        "id": "jmoVKVvqMeFz",
        "colab_type": "text"
      },
      "source": [
        "We see an improvement when using phrases that previously with single words\n"
      ]
    },
    {
      "cell_type": "code",
      "metadata": {
        "id": "WvbkXVUGMnnI",
        "colab_type": "code",
        "outputId": "95b21b7c-cb8c-4a20-ca51-56911504f770",
        "colab": {
          "base_uri": "https://localhost:8080/",
          "height": 204
        }
      },
      "source": [
        "advwords = advancedvectorizer.get_feature_names()\n",
        "advcoeffs = advancedmodel.coef_.tolist()[0]\n",
        "advcoeffdf = pd.DataFrame({'Words' : advwords, \n",
        "                        'Coefficient' : advcoeffs})\n",
        "advcoeffdf = advcoeffdf.sort_values(['Coefficient', 'Words'], ascending=[0, 1])\n",
        "advcoeffdf.head()"
      ],
      "execution_count": 0,
      "outputs": [
        {
          "output_type": "execute_result",
          "data": {
            "text/html": [
              "<div>\n",
              "<style scoped>\n",
              "    .dataframe tbody tr th:only-of-type {\n",
              "        vertical-align: middle;\n",
              "    }\n",
              "\n",
              "    .dataframe tbody tr th {\n",
              "        vertical-align: top;\n",
              "    }\n",
              "\n",
              "    .dataframe thead th {\n",
              "        text-align: right;\n",
              "    }\n",
              "</style>\n",
              "<table border=\"1\" class=\"dataframe\">\n",
              "  <thead>\n",
              "    <tr style=\"text-align: right;\">\n",
              "      <th></th>\n",
              "      <th>Words</th>\n",
              "      <th>Coefficient</th>\n",
              "    </tr>\n",
              "  </thead>\n",
              "  <tbody>\n",
              "    <tr>\n",
              "      <th>110</th>\n",
              "      <td>than the</td>\n",
              "      <td>1.641290</td>\n",
              "    </tr>\n",
              "    <tr>\n",
              "      <th>101</th>\n",
              "      <td>right to</td>\n",
              "      <td>1.415258</td>\n",
              "    </tr>\n",
              "    <tr>\n",
              "      <th>85</th>\n",
              "      <td>of an</td>\n",
              "      <td>1.324453</td>\n",
              "    </tr>\n",
              "    <tr>\n",
              "      <th>10</th>\n",
              "      <td>and other</td>\n",
              "      <td>1.252696</td>\n",
              "    </tr>\n",
              "    <tr>\n",
              "      <th>168</th>\n",
              "      <td>we are</td>\n",
              "      <td>1.124815</td>\n",
              "    </tr>\n",
              "  </tbody>\n",
              "</table>\n",
              "</div>"
            ],
            "text/plain": [
              "         Words  Coefficient\n",
              "110   than the     1.641290\n",
              "101   right to     1.415258\n",
              "85       of an     1.324453\n",
              "10   and other     1.252696\n",
              "168     we are     1.124815"
            ]
          },
          "metadata": {
            "tags": []
          },
          "execution_count": 59
        }
      ]
    },
    {
      "cell_type": "code",
      "metadata": {
        "id": "BzmYktYLNXGH",
        "colab_type": "code",
        "outputId": "8ea03eec-cab6-43d0-951d-fdbfd5304414",
        "colab": {
          "base_uri": "https://localhost:8080/",
          "height": 204
        }
      },
      "source": [
        "advcoeffdf.tail()"
      ],
      "execution_count": 0,
      "outputs": [
        {
          "output_type": "execute_result",
          "data": {
            "text/html": [
              "<div>\n",
              "<style scoped>\n",
              "    .dataframe tbody tr th:only-of-type {\n",
              "        vertical-align: middle;\n",
              "    }\n",
              "\n",
              "    .dataframe tbody tr th {\n",
              "        vertical-align: top;\n",
              "    }\n",
              "\n",
              "    .dataframe thead th {\n",
              "        text-align: right;\n",
              "    }\n",
              "</style>\n",
              "<table border=\"1\" class=\"dataframe\">\n",
              "  <thead>\n",
              "    <tr style=\"text-align: right;\">\n",
              "      <th></th>\n",
              "      <th>Words</th>\n",
              "      <th>Coefficient</th>\n",
              "    </tr>\n",
              "  </thead>\n",
              "  <tbody>\n",
              "    <tr>\n",
              "      <th>174</th>\n",
              "      <td>world war</td>\n",
              "      <td>-0.908041</td>\n",
              "    </tr>\n",
              "    <tr>\n",
              "      <th>119</th>\n",
              "      <td>the last</td>\n",
              "      <td>-0.918783</td>\n",
              "    </tr>\n",
              "    <tr>\n",
              "      <th>145</th>\n",
              "      <td>to give</td>\n",
              "      <td>-0.947991</td>\n",
              "    </tr>\n",
              "    <tr>\n",
              "      <th>43</th>\n",
              "      <td>he was</td>\n",
              "      <td>-0.983150</td>\n",
              "    </tr>\n",
              "    <tr>\n",
              "      <th>123</th>\n",
              "      <td>the police</td>\n",
              "      <td>-1.012975</td>\n",
              "    </tr>\n",
              "  </tbody>\n",
              "</table>\n",
              "</div>"
            ],
            "text/plain": [
              "          Words  Coefficient\n",
              "174   world war    -0.908041\n",
              "119    the last    -0.918783\n",
              "145     to give    -0.947991\n",
              "43       he was    -0.983150\n",
              "123  the police    -1.012975"
            ]
          },
          "metadata": {
            "tags": []
          },
          "execution_count": 60
        }
      ]
    },
    {
      "cell_type": "markdown",
      "metadata": {
        "id": "FRcb1JtDN8Jm",
        "colab_type": "text"
      },
      "source": [
        "**Logic Regression 3**\n",
        "\n",
        "Input: the counts of phrases with three connected words(exclude words which are too common like \"a\" ,\"an\" ,\"the\" and words too uncommon of which counts are too small )"
      ]
    },
    {
      "cell_type": "code",
      "metadata": {
        "id": "YhJNOhmnNZGl",
        "colab_type": "code",
        "outputId": "54979e63-a418-43b6-fb73-9af90ff808ae",
        "colab": {
          "base_uri": "https://localhost:8080/",
          "height": 34
        }
      },
      "source": [
        "advancedvectorizer = TfidfVectorizer( min_df=0.0039, max_df=0.1, max_features = 200000, ngram_range = (3, 3))\n",
        "advancedtrain = advancedvectorizer.fit_transform(trainheadlines)\n",
        "print(advancedtrain.shape)"
      ],
      "execution_count": 0,
      "outputs": [
        {
          "output_type": "stream",
          "text": [
            "(1510, 770)\n"
          ],
          "name": "stdout"
        }
      ]
    },
    {
      "cell_type": "code",
      "metadata": {
        "id": "CbMmDFYoOzse",
        "colab_type": "code",
        "outputId": "bbd10ca5-2b12-454a-8e5e-250d0155de52",
        "colab": {
          "base_uri": "https://localhost:8080/",
          "height": 88
        }
      },
      "source": [
        "advancedmodel = LogisticRegression()\n",
        "advancedmodel = advancedmodel.fit(advancedtrain, train[\"Label\"])\n",
        "testheadlines = []\n",
        "for row in range(0,len(test.index)):\n",
        "    testheadlines.append(' '.join(str(x) for x in test.iloc[row,2:27]))\n",
        "advancedtest = advancedvectorizer.transform(testheadlines)\n",
        "preds3 = advancedmodel.predict(advancedtest)\n",
        "acc3 = accuracy_score(test['Label'], preds3)\n",
        "print('Logic Regression 3 accuracy: ', acc3)"
      ],
      "execution_count": 0,
      "outputs": [
        {
          "output_type": "stream",
          "text": [
            "Logic Regression 3 accuracy:  0.5\n"
          ],
          "name": "stdout"
        },
        {
          "output_type": "stream",
          "text": [
            "/usr/local/lib/python3.6/dist-packages/sklearn/linear_model/logistic.py:432: FutureWarning: Default solver will be changed to 'lbfgs' in 0.22. Specify a solver to silence this warning.\n",
            "  FutureWarning)\n"
          ],
          "name": "stderr"
        }
      ]
    },
    {
      "cell_type": "markdown",
      "metadata": {
        "id": "g6vC6bUnPkys",
        "colab_type": "text"
      },
      "source": [
        "The accuracy is slightly lower at 50% than input of phrases with two connected words."
      ]
    },
    {
      "cell_type": "code",
      "metadata": {
        "id": "rDzYP-eKPi2X",
        "colab_type": "code",
        "outputId": "d8cb405e-ec06-4f01-b377-b513c8b0d2cc",
        "colab": {
          "base_uri": "https://localhost:8080/",
          "height": 204
        }
      },
      "source": [
        "advwords = advancedvectorizer.get_feature_names()\n",
        "advcoeffs = advancedmodel.coef_.tolist()[0]\n",
        "advcoeffdf = pd.DataFrame({'Words' : advwords, \n",
        "                        'Coefficient' : advcoeffs})\n",
        "advcoeffdf = advcoeffdf.sort_values(['Coefficient', 'Words'], ascending=[0, 1])\n",
        "advcoeffdf.head()"
      ],
      "execution_count": 0,
      "outputs": [
        {
          "output_type": "execute_result",
          "data": {
            "text/html": [
              "<div>\n",
              "<style scoped>\n",
              "    .dataframe tbody tr th:only-of-type {\n",
              "        vertical-align: middle;\n",
              "    }\n",
              "\n",
              "    .dataframe tbody tr th {\n",
              "        vertical-align: top;\n",
              "    }\n",
              "\n",
              "    .dataframe thead th {\n",
              "        text-align: right;\n",
              "    }\n",
              "</style>\n",
              "<table border=\"1\" class=\"dataframe\">\n",
              "  <thead>\n",
              "    <tr style=\"text-align: right;\">\n",
              "      <th></th>\n",
              "      <th>Words</th>\n",
              "      <th>Coefficient</th>\n",
              "    </tr>\n",
              "  </thead>\n",
              "  <tbody>\n",
              "    <tr>\n",
              "      <th>723</th>\n",
              "      <td>up in arms</td>\n",
              "      <td>1.068703</td>\n",
              "    </tr>\n",
              "    <tr>\n",
              "      <th>191</th>\n",
              "      <td>he has been</td>\n",
              "      <td>1.051623</td>\n",
              "    </tr>\n",
              "    <tr>\n",
              "      <th>301</th>\n",
              "      <td>it turns out</td>\n",
              "      <td>0.988381</td>\n",
              "    </tr>\n",
              "    <tr>\n",
              "      <th>568</th>\n",
              "      <td>the lives of</td>\n",
              "      <td>0.983618</td>\n",
              "    </tr>\n",
              "    <tr>\n",
              "      <th>142</th>\n",
              "      <td>for all the</td>\n",
              "      <td>0.979222</td>\n",
              "    </tr>\n",
              "  </tbody>\n",
              "</table>\n",
              "</div>"
            ],
            "text/plain": [
              "            Words  Coefficient\n",
              "723    up in arms     1.068703\n",
              "191   he has been     1.051623\n",
              "301  it turns out     0.988381\n",
              "568  the lives of     0.983618\n",
              "142   for all the     0.979222"
            ]
          },
          "metadata": {
            "tags": []
          },
          "execution_count": 63
        }
      ]
    },
    {
      "cell_type": "markdown",
      "metadata": {
        "id": "HR-vz46yQFY1",
        "colab_type": "text"
      },
      "source": [
        "**Naive Bayes**\n",
        "\n",
        "NB 1"
      ]
    },
    {
      "cell_type": "code",
      "metadata": {
        "id": "iC9cmIf3P3SC",
        "colab_type": "code",
        "outputId": "360f128a-d3d7-45cf-eb61-a9a05518412a",
        "colab": {
          "base_uri": "https://localhost:8080/",
          "height": 34
        }
      },
      "source": [
        "advancedvectorizer = TfidfVectorizer( min_df=0.1, max_df=0.7, max_features = 200000, ngram_range = (1, 1))\n",
        "advancedtrain = advancedvectorizer.fit_transform(trainheadlines)\n",
        "print(advancedtrain.shape)"
      ],
      "execution_count": 0,
      "outputs": [
        {
          "output_type": "stream",
          "text": [
            "(1510, 180)\n"
          ],
          "name": "stdout"
        }
      ]
    },
    {
      "cell_type": "code",
      "metadata": {
        "id": "mU2_FvgyQl8F",
        "colab_type": "code",
        "outputId": "e8a55f61-c24d-4c87-eaf4-3a65dbec516a",
        "colab": {
          "base_uri": "https://localhost:8080/",
          "height": 34
        }
      },
      "source": [
        "advancedmodel = MultinomialNB(alpha=0.01)\n",
        "advancedmodel = advancedmodel.fit(advancedtrain, train[\"Label\"])\n",
        "testheadlines = []\n",
        "for row in range(0,len(test.index)):\n",
        "    testheadlines.append(' '.join(str(x) for x in test.iloc[row,2:27]))\n",
        "advancedtest = advancedvectorizer.transform(testheadlines)\n",
        "preds4 = advancedmodel.predict(advancedtest)\n",
        "acc4=accuracy_score(test['Label'], preds4)\n",
        "print('NBayes 1 accuracy: ', acc4)"
      ],
      "execution_count": 0,
      "outputs": [
        {
          "output_type": "stream",
          "text": [
            "NBayes 1 accuracy:  0.5317460317460317\n"
          ],
          "name": "stdout"
        }
      ]
    },
    {
      "cell_type": "code",
      "metadata": {
        "id": "dIGkGO4yRl-4",
        "colab_type": "code",
        "outputId": "ce79187f-7623-4b97-ba28-d6b224ec147b",
        "colab": {
          "base_uri": "https://localhost:8080/",
          "height": 204
        }
      },
      "source": [
        "advwords = advancedvectorizer.get_feature_names()\n",
        "advcoeffs = advancedmodel.coef_.tolist()[0]\n",
        "advcoeffdf = pd.DataFrame({'Words' : advwords, \n",
        "                        'Coefficient' : advcoeffs})\n",
        "advcoeffdf = advcoeffdf.sort_values(['Coefficient', 'Words'], ascending=[0, 1])\n",
        "advcoeffdf.head()"
      ],
      "execution_count": 0,
      "outputs": [
        {
          "output_type": "execute_result",
          "data": {
            "text/html": [
              "<div>\n",
              "<style scoped>\n",
              "    .dataframe tbody tr th:only-of-type {\n",
              "        vertical-align: middle;\n",
              "    }\n",
              "\n",
              "    .dataframe tbody tr th {\n",
              "        vertical-align: top;\n",
              "    }\n",
              "\n",
              "    .dataframe thead th {\n",
              "        text-align: right;\n",
              "    }\n",
              "</style>\n",
              "<table border=\"1\" class=\"dataframe\">\n",
              "  <thead>\n",
              "    <tr style=\"text-align: right;\">\n",
              "      <th></th>\n",
              "      <th>Words</th>\n",
              "      <th>Coefficient</th>\n",
              "    </tr>\n",
              "  </thead>\n",
              "  <tbody>\n",
              "    <tr>\n",
              "      <th>142</th>\n",
              "      <td>that</td>\n",
              "      <td>-4.248585</td>\n",
              "    </tr>\n",
              "    <tr>\n",
              "      <th>59</th>\n",
              "      <td>has</td>\n",
              "      <td>-4.312148</td>\n",
              "    </tr>\n",
              "    <tr>\n",
              "      <th>13</th>\n",
              "      <td>as</td>\n",
              "      <td>-4.324112</td>\n",
              "    </tr>\n",
              "    <tr>\n",
              "      <th>27</th>\n",
              "      <td>by</td>\n",
              "      <td>-4.348073</td>\n",
              "    </tr>\n",
              "    <tr>\n",
              "      <th>51</th>\n",
              "      <td>from</td>\n",
              "      <td>-4.389266</td>\n",
              "    </tr>\n",
              "  </tbody>\n",
              "</table>\n",
              "</div>"
            ],
            "text/plain": [
              "    Words  Coefficient\n",
              "142  that    -4.248585\n",
              "59    has    -4.312148\n",
              "13     as    -4.324112\n",
              "27     by    -4.348073\n",
              "51   from    -4.389266"
            ]
          },
          "metadata": {
            "tags": []
          },
          "execution_count": 66
        }
      ]
    },
    {
      "cell_type": "code",
      "metadata": {
        "id": "yUN_dLbzRwX_",
        "colab_type": "code",
        "outputId": "bf316734-6e0f-4f33-8f6b-101cbf85e73c",
        "colab": {
          "base_uri": "https://localhost:8080/",
          "height": 204
        }
      },
      "source": [
        "advcoeffdf.tail()"
      ],
      "execution_count": 0,
      "outputs": [
        {
          "output_type": "execute_result",
          "data": {
            "text/html": [
              "<div>\n",
              "<style scoped>\n",
              "    .dataframe tbody tr th:only-of-type {\n",
              "        vertical-align: middle;\n",
              "    }\n",
              "\n",
              "    .dataframe tbody tr th {\n",
              "        vertical-align: top;\n",
              "    }\n",
              "\n",
              "    .dataframe thead th {\n",
              "        text-align: right;\n",
              "    }\n",
              "</style>\n",
              "<table border=\"1\" class=\"dataframe\">\n",
              "  <thead>\n",
              "    <tr style=\"text-align: right;\">\n",
              "      <th></th>\n",
              "      <th>Words</th>\n",
              "      <th>Coefficient</th>\n",
              "    </tr>\n",
              "  </thead>\n",
              "  <tbody>\n",
              "    <tr>\n",
              "      <th>139</th>\n",
              "      <td>stop</td>\n",
              "      <td>-5.805594</td>\n",
              "    </tr>\n",
              "    <tr>\n",
              "      <th>43</th>\n",
              "      <td>european</td>\n",
              "      <td>-5.812780</td>\n",
              "    </tr>\n",
              "    <tr>\n",
              "      <th>44</th>\n",
              "      <td>even</td>\n",
              "      <td>-5.813698</td>\n",
              "    </tr>\n",
              "    <tr>\n",
              "      <th>172</th>\n",
              "      <td>without</td>\n",
              "      <td>-5.848278</td>\n",
              "    </tr>\n",
              "    <tr>\n",
              "      <th>19</th>\n",
              "      <td>bbc</td>\n",
              "      <td>-5.893120</td>\n",
              "    </tr>\n",
              "  </tbody>\n",
              "</table>\n",
              "</div>"
            ],
            "text/plain": [
              "        Words  Coefficient\n",
              "139      stop    -5.805594\n",
              "43   european    -5.812780\n",
              "44       even    -5.813698\n",
              "172   without    -5.848278\n",
              "19        bbc    -5.893120"
            ]
          },
          "metadata": {
            "tags": []
          },
          "execution_count": 67
        }
      ]
    },
    {
      "cell_type": "markdown",
      "metadata": {
        "id": "Qy2DbFUnWKqa",
        "colab_type": "text"
      },
      "source": [
        "Naive Bayes 2\n"
      ]
    },
    {
      "cell_type": "code",
      "metadata": {
        "id": "pXzUve7zSjbz",
        "colab_type": "code",
        "outputId": "a47eef62-f9a2-49e7-919f-d2e28cdb7d81",
        "colab": {
          "base_uri": "https://localhost:8080/",
          "height": 34
        }
      },
      "source": [
        "advancedvectorizer = TfidfVectorizer( min_df=0.03, max_df=0.2, max_features = 200000, ngram_range = (2, 2))\n",
        "advancedtrain = advancedvectorizer.fit_transform(trainheadlines)\n",
        "print(advancedtrain.shape)"
      ],
      "execution_count": 0,
      "outputs": [
        {
          "output_type": "stream",
          "text": [
            "(1510, 171)\n"
          ],
          "name": "stdout"
        }
      ]
    },
    {
      "cell_type": "code",
      "metadata": {
        "id": "cwyLhkTAWQX8",
        "colab_type": "code",
        "outputId": "2b86abf7-24d9-416b-b6db-75e722e18eee",
        "colab": {
          "base_uri": "https://localhost:8080/",
          "height": 34
        }
      },
      "source": [
        "advancedmodel = MultinomialNB(alpha=0.0001)\n",
        "advancedmodel = advancedmodel.fit(advancedtrain, train[\"Label\"])\n",
        "testheadlines = []\n",
        "for row in range(0,len(test.index)):\n",
        "    testheadlines.append(' '.join(str(x) for x in test.iloc[row,2:27]))\n",
        "advancedtest = advancedvectorizer.transform(testheadlines)\n",
        "preds5 = advancedmodel.predict(advancedtest)\n",
        "acc5 = accuracy_score(test['Label'], preds5)\n",
        "print('NBayes 2 accuracy: ', acc5)"
      ],
      "execution_count": 0,
      "outputs": [
        {
          "output_type": "stream",
          "text": [
            "NBayes 2 accuracy:  0.5079365079365079\n"
          ],
          "name": "stdout"
        }
      ]
    },
    {
      "cell_type": "code",
      "metadata": {
        "id": "Q3PD0Ap9Wl5c",
        "colab_type": "code",
        "outputId": "54715206-67f3-4dc3-902a-e5efb817cd6d",
        "colab": {
          "base_uri": "https://localhost:8080/",
          "height": 204
        }
      },
      "source": [
        "advwords = advancedvectorizer.get_feature_names()\n",
        "advcoeffs = advancedmodel.coef_.tolist()[0]\n",
        "advcoeffdf = pd.DataFrame({'Words' : advwords, \n",
        "                        'Coefficient' : advcoeffs})\n",
        "advcoeffdf = advcoeffdf.sort_values(['Coefficient', 'Words'], ascending=[0, 1])\n",
        "advcoeffdf.head()"
      ],
      "execution_count": 0,
      "outputs": [
        {
          "output_type": "execute_result",
          "data": {
            "text/html": [
              "<div>\n",
              "<style scoped>\n",
              "    .dataframe tbody tr th:only-of-type {\n",
              "        vertical-align: middle;\n",
              "    }\n",
              "\n",
              "    .dataframe tbody tr th {\n",
              "        vertical-align: top;\n",
              "    }\n",
              "\n",
              "    .dataframe thead th {\n",
              "        text-align: right;\n",
              "    }\n",
              "</style>\n",
              "<table border=\"1\" class=\"dataframe\">\n",
              "  <thead>\n",
              "    <tr style=\"text-align: right;\">\n",
              "      <th></th>\n",
              "      <th>Words</th>\n",
              "      <th>Coefficient</th>\n",
              "    </tr>\n",
              "  </thead>\n",
              "  <tbody>\n",
              "    <tr>\n",
              "      <th>79</th>\n",
              "      <td>north korea</td>\n",
              "      <td>-4.132569</td>\n",
              "    </tr>\n",
              "    <tr>\n",
              "      <th>39</th>\n",
              "      <td>has been</td>\n",
              "      <td>-4.149692</td>\n",
              "    </tr>\n",
              "    <tr>\n",
              "      <th>169</th>\n",
              "      <td>year old</td>\n",
              "      <td>-4.223944</td>\n",
              "    </tr>\n",
              "    <tr>\n",
              "      <th>40</th>\n",
              "      <td>have been</td>\n",
              "      <td>-4.327065</td>\n",
              "    </tr>\n",
              "    <tr>\n",
              "      <th>36</th>\n",
              "      <td>from the</td>\n",
              "      <td>-4.328559</td>\n",
              "    </tr>\n",
              "  </tbody>\n",
              "</table>\n",
              "</div>"
            ],
            "text/plain": [
              "           Words  Coefficient\n",
              "79   north korea    -4.132569\n",
              "39      has been    -4.149692\n",
              "169     year old    -4.223944\n",
              "40     have been    -4.327065\n",
              "36      from the    -4.328559"
            ]
          },
          "metadata": {
            "tags": []
          },
          "execution_count": 70
        }
      ]
    },
    {
      "cell_type": "code",
      "metadata": {
        "id": "1L-ipDkRWn0Q",
        "colab_type": "code",
        "outputId": "748280dd-d2e3-4818-e934-d438c8941ac3",
        "colab": {
          "base_uri": "https://localhost:8080/",
          "height": 204
        }
      },
      "source": [
        "advcoeffdf.tail()"
      ],
      "execution_count": 0,
      "outputs": [
        {
          "output_type": "execute_result",
          "data": {
            "text/html": [
              "<div>\n",
              "<style scoped>\n",
              "    .dataframe tbody tr th:only-of-type {\n",
              "        vertical-align: middle;\n",
              "    }\n",
              "\n",
              "    .dataframe tbody tr th {\n",
              "        vertical-align: top;\n",
              "    }\n",
              "\n",
              "    .dataframe thead th {\n",
              "        text-align: right;\n",
              "    }\n",
              "</style>\n",
              "<table border=\"1\" class=\"dataframe\">\n",
              "  <thead>\n",
              "    <tr style=\"text-align: right;\">\n",
              "      <th></th>\n",
              "      <th>Words</th>\n",
              "      <th>Coefficient</th>\n",
              "    </tr>\n",
              "  </thead>\n",
              "  <tbody>\n",
              "    <tr>\n",
              "      <th>32</th>\n",
              "      <td>end of</td>\n",
              "      <td>-5.809781</td>\n",
              "    </tr>\n",
              "    <tr>\n",
              "      <th>139</th>\n",
              "      <td>to give</td>\n",
              "      <td>-5.817873</td>\n",
              "    </tr>\n",
              "    <tr>\n",
              "      <th>114</th>\n",
              "      <td>the israeli</td>\n",
              "      <td>-5.832433</td>\n",
              "    </tr>\n",
              "    <tr>\n",
              "      <th>119</th>\n",
              "      <td>the police</td>\n",
              "      <td>-5.885780</td>\n",
              "    </tr>\n",
              "    <tr>\n",
              "      <th>167</th>\n",
              "      <td>world war</td>\n",
              "      <td>-5.955652</td>\n",
              "    </tr>\n",
              "  </tbody>\n",
              "</table>\n",
              "</div>"
            ],
            "text/plain": [
              "           Words  Coefficient\n",
              "32        end of    -5.809781\n",
              "139      to give    -5.817873\n",
              "114  the israeli    -5.832433\n",
              "119   the police    -5.885780\n",
              "167    world war    -5.955652"
            ]
          },
          "metadata": {
            "tags": []
          },
          "execution_count": 71
        }
      ]
    },
    {
      "cell_type": "markdown",
      "metadata": {
        "id": "oQJWSXW9WyWK",
        "colab_type": "text"
      },
      "source": [
        "## Random Forest"
      ]
    },
    {
      "cell_type": "code",
      "metadata": {
        "id": "0LtuealCWwwj",
        "colab_type": "code",
        "outputId": "4e996b40-d22a-4478-d215-624209b16287",
        "colab": {
          "base_uri": "https://localhost:8080/",
          "height": 34
        }
      },
      "source": [
        "#RF 1\n",
        "advancedvectorizer = TfidfVectorizer( min_df=0.01, max_df=0.99, max_features = 200000, ngram_range = (1, 1))\n",
        "advancedtrain = advancedvectorizer.fit_transform(trainheadlines)\n",
        "print(advancedtrain.shape)"
      ],
      "execution_count": 0,
      "outputs": [
        {
          "output_type": "stream",
          "text": [
            "(1510, 2460)\n"
          ],
          "name": "stdout"
        }
      ]
    },
    {
      "cell_type": "code",
      "metadata": {
        "id": "d416g0yvXI_4",
        "colab_type": "code",
        "outputId": "dce3bba5-a539-43e6-d50f-07d9e11c46cd",
        "colab": {
          "base_uri": "https://localhost:8080/",
          "height": 88
        }
      },
      "source": [
        "advancedmodel = RandomForestClassifier()\n",
        "advancedmodel = advancedmodel.fit(advancedtrain, train[\"Label\"])\n",
        "testheadlines = []\n",
        "for row in range(0,len(test.index)):\n",
        "    testheadlines.append(' '.join(str(x) for x in test.iloc[row,2:27]))\n",
        "advancedtest = advancedvectorizer.transform(testheadlines)\n",
        "preds6 = advancedmodel.predict(advancedtest)\n",
        "acc6 = accuracy_score(test['Label'], preds6)\n",
        "print('RF 1 accuracy: ', acc6)"
      ],
      "execution_count": 0,
      "outputs": [
        {
          "output_type": "stream",
          "text": [
            "/usr/local/lib/python3.6/dist-packages/sklearn/ensemble/forest.py:245: FutureWarning: The default value of n_estimators will change from 10 in version 0.20 to 100 in 0.22.\n",
            "  \"10 in version 0.20 to 100 in 0.22.\", FutureWarning)\n"
          ],
          "name": "stderr"
        },
        {
          "output_type": "stream",
          "text": [
            "RF 1 accuracy:  0.4642857142857143\n"
          ],
          "name": "stdout"
        }
      ]
    },
    {
      "cell_type": "markdown",
      "metadata": {
        "id": "c_yRoSHdXUIP",
        "colab_type": "text"
      },
      "source": [
        "RandomForest 2"
      ]
    },
    {
      "cell_type": "code",
      "metadata": {
        "id": "DAvmTu67XTB2",
        "colab_type": "code",
        "outputId": "6a0662b5-d17a-4381-f734-959b9abda870",
        "colab": {
          "base_uri": "https://localhost:8080/",
          "height": 34
        }
      },
      "source": [
        "#RF 2\n",
        "advancedvectorizer = TfidfVectorizer( min_df=0.03, max_df=0.2, max_features = 200000, ngram_range = (2, 2))\n",
        "advancedtrain = advancedvectorizer.fit_transform(trainheadlines)\n",
        "print(advancedtrain.shape)"
      ],
      "execution_count": 0,
      "outputs": [
        {
          "output_type": "stream",
          "text": [
            "(1510, 171)\n"
          ],
          "name": "stdout"
        }
      ]
    },
    {
      "cell_type": "code",
      "metadata": {
        "id": "xVRFQ7UFXhwJ",
        "colab_type": "code",
        "outputId": "eb907a83-8662-4900-abe1-58065465d532",
        "colab": {
          "base_uri": "https://localhost:8080/",
          "height": 88
        }
      },
      "source": [
        "advancedmodel = RandomForestClassifier()\n",
        "advancedmodel = advancedmodel.fit(advancedtrain, train[\"Label\"])\n",
        "testheadlines = []\n",
        "for row in range(0,len(test.index)):\n",
        "    testheadlines.append(' '.join(str(x) for x in test.iloc[row,2:27]))\n",
        "advancedtest = advancedvectorizer.transform(testheadlines)\n",
        "preds7 = advancedmodel.predict(advancedtest)\n",
        "acc7 = accuracy_score(test['Label'], preds7)\n",
        "print('RF 2 accuracy: ', acc7)"
      ],
      "execution_count": 0,
      "outputs": [
        {
          "output_type": "stream",
          "text": [
            "RF 2 accuracy:  0.5\n"
          ],
          "name": "stdout"
        },
        {
          "output_type": "stream",
          "text": [
            "/usr/local/lib/python3.6/dist-packages/sklearn/ensemble/forest.py:245: FutureWarning: The default value of n_estimators will change from 10 in version 0.20 to 100 in 0.22.\n",
            "  \"10 in version 0.20 to 100 in 0.22.\", FutureWarning)\n"
          ],
          "name": "stderr"
        }
      ]
    },
    {
      "cell_type": "markdown",
      "metadata": {
        "id": "I7qQyBN0pV50",
        "colab_type": "text"
      },
      "source": [
        "## Gradient Boosting Machines\n",
        "GBM 1\n"
      ]
    },
    {
      "cell_type": "code",
      "metadata": {
        "id": "QE0YPPcSpUub",
        "colab_type": "code",
        "outputId": "1c015295-1017-4c50-b570-1749a7126ede",
        "colab": {
          "base_uri": "https://localhost:8080/",
          "height": 34
        }
      },
      "source": [
        "advancedvectorizer = TfidfVectorizer( min_df=0.1, max_df=0.9, max_features = 200000, ngram_range = (1, 1))\n",
        "advancedtrain = advancedvectorizer.fit_transform(trainheadlines)\n",
        "print(advancedtrain.shape)"
      ],
      "execution_count": 0,
      "outputs": [
        {
          "output_type": "stream",
          "text": [
            "(1510, 183)\n"
          ],
          "name": "stdout"
        }
      ]
    },
    {
      "cell_type": "code",
      "metadata": {
        "id": "1hq0p0B9pw0f",
        "colab_type": "code",
        "outputId": "5de437c8-369a-45b8-854a-25ce43ed81ad",
        "colab": {
          "base_uri": "https://localhost:8080/",
          "height": 34
        }
      },
      "source": [
        "advancedmodel = GradientBoostingClassifier()\n",
        "advancedmodel = advancedmodel.fit(advancedtrain, train[\"Label\"])\n",
        "testheadlines = []\n",
        "for row in range(0,len(test.index)):\n",
        "    testheadlines.append(' '.join(str(x) for x in test.iloc[row,2:27]))\n",
        "advancedtest = advancedvectorizer.transform(testheadlines)\n",
        "preds8 = advancedmodel.predict(advancedtest.toarray())\n",
        "acc8 = accuracy_score(test['Label'], preds8)\n",
        "print('GBM 1 accuracy: ', acc8)"
      ],
      "execution_count": 0,
      "outputs": [
        {
          "output_type": "stream",
          "text": [
            "GBM 1 accuracy:  0.5833333333333334\n"
          ],
          "name": "stdout"
        }
      ]
    }
  ]
}