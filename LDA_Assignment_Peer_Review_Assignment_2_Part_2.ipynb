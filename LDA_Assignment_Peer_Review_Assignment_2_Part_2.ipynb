{
  "nbformat": 4,
  "nbformat_minor": 0,
  "metadata": {
    "colab": {
      "name": "LDA Assignment - Peer Review Assignment 2- Part 2.ipynb",
      "version": "0.3.2",
      "provenance": [],
      "include_colab_link": true
    },
    "language_info": {
      "codemirror_mode": {
        "name": "ipython",
        "version": 3
      },
      "file_extension": ".py",
      "mimetype": "text/x-python",
      "name": "python",
      "nbconvert_exporter": "python",
      "pygments_lexer": "ipython3",
      "version": "3.7.0"
    },
    "kernelspec": {
      "display_name": "Python 3",
      "language": "python",
      "name": "python3"
    }
  },
  "cells": [
    {
      "cell_type": "markdown",
      "metadata": {
        "id": "view-in-github",
        "colab_type": "text"
      },
      "source": [
        "<a href=\"https://colab.research.google.com/github/ikonthomas/SchoolPlay/blob/master/LDA_Assignment_Peer_Review_Assignment_2_Part_2.ipynb\" target=\"_parent\"><img src=\"https://colab.research.google.com/assets/colab-badge.svg\" alt=\"Open In Colab\"/></a>"
      ]
    },
    {
      "metadata": {
        "id": "do5PczkRo0P4",
        "colab_type": "text"
      },
      "cell_type": "markdown",
      "source": [
        "# Peer Review Assignment 2 - Part II\n",
        "\n",
        "Name: Thomas Muserepwa\n",
        "\n",
        "Date: 14/04/2019\n"
      ]
    },
    {
      "metadata": {
        "id": "TenW98Hxo0P6",
        "colab_type": "text"
      },
      "cell_type": "markdown",
      "source": [
        "## Instructions\n",
        "\n",
        "* Work through the notebook, answer all questions, and do all problems\n",
        "* You are allowed to consult the internet, and discuss on the module forum\n",
        "* Your answers and solutions to the problems should be added to this notebook \n",
        "* Submit your final work as an html file\n",
        "* Note that the solutions to the problems used python version 3.6.4.  \n",
        "\n",
        "## Marking Scheme (Theoretical Questions)\n",
        "* All questions are marked out of 3.\n",
        "* No valid answer: 0 marks\n",
        "* Demonstration of grasp of basic idea: 1 mark\n",
        "* 'Perfect' answer: 3 marks\n",
        "\n",
        "## Marking Scheme (Practical Problems)\n",
        "* All problems are marked out of 5.\n",
        "* No valid answer: 0 marks\n",
        "* Demonstration of grasp of basic idea: 2 mark\n",
        "* Working code: 5 marks\n",
        "---\n"
      ]
    },
    {
      "metadata": {
        "id": "rbjTQc49o0P8",
        "colab_type": "text"
      },
      "cell_type": "markdown",
      "source": [
        "# Linear Discriminant Analysis (LDA)\n",
        "\n",
        "The PCA encountered in the previous exercise can be viewed as a dimensionality reduction scheme, projecting onto the directions with maximal variance.\n",
        "\n",
        "LDA is also a dimensionality reduction scheme but operates on a very different principle. Now we are given data that belongs to different classes. We are given both the data value $x$ and a class label $y$ If we have $k$ classes then $y$ will take on $k$ labels, in Python typicall the values 0 through $k-1$. \n",
        "\n",
        "The idea is to project the data onto a lower dimensional space in such a way that maximal *class separation* is achieved in the lower dimensional space.\n",
        "\n",
        "You can learn more about the scikit-learn implementation at http://scikit-learn.org/stable/modules/generated/sklearn.lda.LDA.html\n",
        "\n",
        "You will investigate the difference between  PCA using the wine data set, for more information see  http://archive.ics.uci.edu/ml/datasets/Wine Since the wine dataset is 13 dimensional the difference between PCA and LDA is more pronounced than say, with the Iris data set. \n",
        "\n",
        "We project down to 2 dimensions for easy visualization. In fact, since there are only 3 classes, one does not retain any more information by using higher dimensions.\n"
      ]
    },
    {
      "metadata": {
        "id": "0LKZqSTEo0P9",
        "colab_type": "text"
      },
      "cell_type": "markdown",
      "source": [
        "## Import packages"
      ]
    },
    {
      "metadata": {
        "id": "f4TUv3lfo0P_",
        "colab_type": "code",
        "colab": {}
      },
      "cell_type": "code",
      "source": [
        "%matplotlib inline\n",
        "%load_ext autoreload\n",
        "%autoreload 2\n",
        "\n",
        "import numpy as np\n",
        "from matplotlib import pylab as plt\n",
        "from sklearn.decomposition import PCA\n",
        "from sklearn.discriminant_analysis import LinearDiscriminantAnalysis as LDA\n",
        "\n",
        "# Import different modules for using with the notebook\n",
        "from IPython.display import display\n",
        "from IPython.display import Image"
      ],
      "execution_count": 0,
      "outputs": []
    },
    {
      "metadata": {
        "id": "zmM-84w3o0QJ",
        "colab_type": "text"
      },
      "cell_type": "markdown",
      "source": [
        "## Simple example\n",
        "\n",
        "As a warmup run the example from the scikit-learn website."
      ]
    },
    {
      "metadata": {
        "id": "4jzGsn4vo0QK",
        "colab_type": "code",
        "colab": {},
        "outputId": "65015d39-fda9-4000-eb4b-4340b9c55aec"
      },
      "cell_type": "code",
      "source": [
        "# Create synthetic data\n",
        "X = np.array([[-1, -1], [-2, -1], [-3, -2], [1, 1], [2, 1], [3, 2]])\n",
        "y = np.array([1, 1, 1, 2, 2, 2])\n",
        "\n",
        "# Instantiate & fit the model: LDA\n",
        "clf = LDA()\n",
        "clf.fit(X, y)\n",
        "\n",
        "print(clf.predict([[-0.8, -1]]))"
      ],
      "execution_count": 0,
      "outputs": [
        {
          "output_type": "stream",
          "text": [
            "[1]\n"
          ],
          "name": "stdout"
        }
      ]
    },
    {
      "metadata": {
        "id": "B1b0Yo4Xo0QV",
        "colab_type": "text"
      },
      "cell_type": "markdown",
      "source": [
        "## Loading the data\n",
        "\n",
        "Read the data, extract the class labels from the last column, then extract the names of the classes using the convenient `set` function in Python. \n"
      ]
    },
    {
      "metadata": {
        "id": "h7Fr1NIpo0QX",
        "colab_type": "code",
        "colab": {}
      },
      "cell_type": "code",
      "source": [
        "# import training data\n",
        "wine_train = np.loadtxt('./data/wine/wine_train.txt',delimiter = ',')\n",
        "wine_train_labels = wine_train[:,-1]\n",
        "wine_train_classes = list(set(wine_train_labels))\n",
        "wine_train_classes = np.array(wine_train_classes, dtype=int)\n",
        "wine_train_labels = np.array(wine_train_labels, dtype = int)\n",
        "wine_train = wine_train[:,:-1]\n",
        "\n",
        "# import testing data\n",
        "wine_test = np.loadtxt('./data/wine/wine_test.txt', delimiter = ',')\n",
        "wine_test_labels = wine_test[:,-1]\n",
        "wine_test_classes = list(set(wine_test_labels))\n",
        "wine_test_classes = np.array(wine_test_classes, dtype=int)\n",
        "wine_test_labels = np.array(wine_test_labels, dtype = int)\n",
        "wine_test = wine_test[:, :-1]"
      ],
      "execution_count": 0,
      "outputs": []
    },
    {
      "metadata": {
        "id": "mUFE9dd7o0Qb",
        "colab_type": "text"
      },
      "cell_type": "markdown",
      "source": [
        "---"
      ]
    },
    {
      "metadata": {
        "id": "BpU9R029o0Qc",
        "colab_type": "text"
      },
      "cell_type": "markdown",
      "source": [
        "## PCA\n",
        "\n",
        "### Problem 1: (**5 marks**)\n",
        "\n",
        "Project the data onto 2 PCA components and display the classes of the dimension-reduced data.\n",
        "\n",
        "You should see something like:"
      ]
    },
    {
      "metadata": {
        "id": "E-TblIxCo0Qe",
        "colab_type": "code",
        "colab": {}
      },
      "cell_type": "code",
      "source": [
        "%matplotlib inline\n",
        "%load_ext autoreload\n",
        "%autoreload 2\n",
        "\n",
        "import numpy as np\n",
        "from matplotlib import pylab as plt\n",
        "from sklearn.decomposition import PCA\n",
        "\n",
        "# import training data\n",
        "wine_train = np.loadtxt('./data/wine/wine_train.txt',delimiter = ',')\n",
        "wine_train_labels = wine_train[:,-1]\n",
        "wine_train_classes = list(set(wine_train_labels))\n",
        "wine_train_classes = np.array(wine_train_classes, dtype=int)\n",
        "wine_train_labels = np.array(wine_train_labels, dtype = int)\n",
        "wine_train = wine_train[:,:-1]\n",
        "\n",
        "# import testing data\n",
        "wine_test = np.loadtxt('./data/wine/wine_test.txt', delimiter = ',')\n",
        "wine_test_labels = wine_test[:,-1]\n",
        "wine_test_classes = list(set(wine_test_labels))\n",
        "wine_test_classes = np.array(wine_test_classes, dtype=int)\n",
        "wine_test_labels = np.array(wine_test_labels, dtype = int)\n",
        "wine_test = wine_test[:, :-1]\n",
        "\n",
        "from sklearn.decomposition import PCA as sklearnPCA\n",
        "sklearn_pca = sklearnPCA(n_components=2)\n",
        "Y_sklearn = sklearn_pca.fit_transform(X_std)\n",
        "\n",
        "traces = []\n",
        "\n",
        "for name in ('wine'):\n",
        "\n",
        "    trace = Scatter(\n",
        "        x=Y_sklearn[y==name,0],\n",
        "        y=Y_sklearn[y==name,1],\n",
        "        mode='markers',\n",
        "        name=name,\n",
        "        marker=Marker(\n",
        "            size=12,\n",
        "            line=Line(\n",
        "                color='rgba(217, 217, 217, 0.14)',\n",
        "                width=0.5),\n",
        "            opacity=0.8))\n",
        "    traces.append(trace)\n",
        "\n",
        "\n",
        "data = Data(traces)\n",
        "layout = Layout(xaxis=XAxis(title='PC1', showline=False),\n",
        "                yaxis=YAxis(title='PC2', showline=False))\n",
        "fig = Figure(data=data, layout=layout)\n",
        "py.iplot(fig)"
      ],
      "execution_count": 0,
      "outputs": []
    },
    {
      "metadata": {
        "id": "fAiZjGG2o0Ql",
        "colab_type": "code",
        "colab": {},
        "outputId": "058491d7-a3a1-4c83-d628-98f94e601fce"
      },
      "cell_type": "code",
      "source": [
        "display(Image(filename='./Wine_PCA.png'))"
      ],
      "execution_count": 0,
      "outputs": [
        {
          "output_type": "display_data",
          "data": {
            "image/png": "[encoded data removed]",
            "text/plain": [
              "<IPython.core.display.Image object>"
            ]
          },
          "metadata": {
            "tags": []
          }
        }
      ]
    },
    {
      "metadata": {
        "id": "daFtiqEFo0Qs",
        "colab_type": "text"
      },
      "cell_type": "markdown",
      "source": [
        "## LDA\n",
        "\n",
        "### Problem 2:(**5 marks**)\n",
        "\n",
        "Fit an LDA model to the data, using 2 components and display the different classes of the projected data.\n",
        "\n",
        "You should see: "
      ]
    },
    {
      "metadata": {
        "id": "nnEylDBVo0Qu",
        "colab_type": "code",
        "colab": {}
      },
      "cell_type": "code",
      "source": [
        "#Importing the relevant packages\n",
        "import numpy as np  \n",
        "import pandas as pd  \n",
        "\n",
        "%matplotlib inline\n",
        "%load_ext autoreload\n",
        "%autoreload 2\n",
        "\n",
        "import numpy as np\n",
        "from matplotlib import pylab as plt\n",
        "from sklearn.decomposition import PCA\n",
        "from sklearn.discriminant_analysis import LinearDiscriminantAnalysis as LDA\n",
        "# import training data\n",
        "wine_train = np.loadtxt('./data/wine/wine_train.txt',delimiter = ',')\n",
        "wine_train_labels = wine_train[:,-1]\n",
        "wine_train_classes = list(set(wine_train_labels))\n",
        "wine_train_classes = np.array(wine_train_classes, dtype=int)\n",
        "wine_train_labels = np.array(wine_train_labels, dtype = int)\n",
        "wine_train = wine_train[:,:-1]\n",
        "\n",
        "# import testing data\n",
        "wine_test = np.loadtxt('./data/wine/wine_test.txt', delimiter = ',')\n",
        "wine_test_labels = wine_test[:,-1]\n",
        "wine_test_classes = list(set(wine_test_labels))\n",
        "wine_test_classes = np.array(wine_test_classes, dtype=int)\n",
        "wine_test_labels = np.array(wine_test_labels, dtype = int)\n",
        "wine_test = wine_test[:, :-1]\n",
        "\n",
        "X = dataset.iloc[:, 0:4].values  \n",
        "y = dataset.iloc[:, 4].values  \n",
        "\n",
        "from sklearn.model_selection import train_test_split\n",
        "\n",
        "X_train, X_test, y_train, y_test = train_test_split(X, y, test_size=0.2, random_state=0)  \n",
        "rom sklearn.preprocessing import StandardScaler\n",
        "\n",
        "sc = StandardScaler()  \n",
        "X_train = sc.fit_transform(X_train)  \n",
        "X_test = sc.transform(X_test)  \n",
        "from sklearn.discriminant_analysis import LinearDiscriminantAnalysis as LDA\n",
        "\n",
        "lda = LDA(n_components=1)  \n",
        "X_train = lda.fit_transform(X_train, y_train)  \n",
        "X_test = lda.transform(X_test)  \n",
        "from sklearn.ensemble import RandomForestClassifier\n",
        "\n",
        "classifier = RandomForestClassifier(max_depth=2, random_state=0)\n",
        "\n",
        "classifier.fit(X_train, y_train)  \n",
        "y_pred = classifier.predict(X_test) \n",
        "\n",
        "from sklearn.metrics import confusion_matrix  \n",
        "from sklearn.metrics import accuracy_score\n",
        "\n",
        "cm = confusion_matrix(y_test, y_pred)  \n",
        "print(cm)  \n",
        "print('Accuracy' + str(accuracy_score(y_test, y_pred)))  \n",
        "\n",
        "traces = []\n",
        "\n",
        "for name in ('wine'):\n",
        "\n",
        "    trace = Scatter(\n",
        "        x=Y_sklearn[y==name,0],\n",
        "        y=Y_sklearn[y==name,1],\n",
        "        mode='markers',\n",
        "        name=name,\n",
        "        marker=Marker(\n",
        "            size=12,\n",
        "            line=Line(\n",
        "                color='rgba(217, 217, 217, 0.14)',\n",
        "                width=0.5),\n",
        "            opacity=0.8))\n",
        "    traces.append(trace)\n",
        "\n",
        "\n",
        "data = Data(traces)\n",
        "layout = Layout(xaxis=XAxis(title='LD1', showline=False),\n",
        "                yaxis=YAxis(title='LD2', showline=False))\n",
        "fig = Figure(data=data, layout=layout)\n",
        "py.iplot(fig)"
      ],
      "execution_count": 0,
      "outputs": []
    },
    {
      "metadata": {
        "id": "q1fl01W1o0Qz",
        "colab_type": "code",
        "colab": {},
        "outputId": "6be97374-edbb-4e68-abc2-1b8eba66ea02"
      },
      "cell_type": "code",
      "source": [
        "display(Image(filename='./LDA_pr.png'))"
      ],
      "execution_count": 0,
      "outputs": [
        {
          "output_type": "display_data",
          "data": {
            "image/png": "[encoded data removed]",
            "text/plain": [
              "<IPython.core.display.Image object>"
            ]
          },
          "metadata": {
            "tags": []
          }
        }
      ]
    },
    {
      "metadata": {
        "id": "j9KXDxeJo0Q6",
        "colab_type": "text"
      },
      "cell_type": "markdown",
      "source": [
        "# We can see that the LDA projection is much better at preserving the class structure than PCA."
      ]
    },
    {
      "metadata": {
        "id": "DFf-S_o9ppMF",
        "colab_type": "code",
        "colab": {}
      },
      "cell_type": "code",
      "source": [
        ""
      ],
      "execution_count": 0,
      "outputs": []
    }
  ]
}