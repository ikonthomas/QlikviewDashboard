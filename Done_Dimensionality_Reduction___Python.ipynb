{
  "nbformat": 4,
  "nbformat_minor": 0,
  "metadata": {
    "colab": {
      "name": "Done_Dimensionality_Reduction_-_Python.ipynb",
      "version": "0.3.2",
      "provenance": [],
      "collapsed_sections": [
        "PPAfOHC2P4x8"
      ],
      "include_colab_link": true
    },
    "kernelspec": {
      "display_name": "Python 2",
      "language": "python",
      "name": "python2"
    }
  },
  "cells": [
    {
      "cell_type": "markdown",
      "metadata": {
        "id": "view-in-github",
        "colab_type": "text"
      },
      "source": [
        "<a href=\"https://colab.research.google.com/github/ikonthomas/SchoolPlay/blob/master/Done_Dimensionality_Reduction___Python.ipynb\" target=\"_parent\"><img src=\"https://colab.research.google.com/assets/colab-badge.svg\" alt=\"Open In Colab\"/></a>"
      ]
    },
    {
      "metadata": {
        "id": "kZ0b-hLWP4uX",
        "colab_type": "text"
      },
      "cell_type": "markdown",
      "source": [
        "<a href=\"https://www.bigdatauniversity.com\"><img src = \"https://ibm.box.com/shared/static/cw2c7r3o20w9zn8gkecaeyjhgw3xdgbj.png\" width = 400, align = \"center\"></a>\n",
        "\n",
        "# <center>Dimensionality Reduction</center>"
      ]
    },
    {
      "metadata": {
        "id": "pjbEvjs2P4ue",
        "colab_type": "text"
      },
      "cell_type": "markdown",
      "source": [
        "### <b>Welcome to Lab 5a of Machine Learning 101 with Python.</b>\n",
        "<p><b>Machine Learning is a form of artificial intelligence (AI), where the system can \"learn\" without explicitly being coded</b></p>\n",
        "\n",
        "In this lab exercise, you will learn how to use <b>Dimensionality Reduction</b> in the form of <b>Feature Selection</b> and <b>Feature Extraction</b>.\n"
      ]
    },
    {
      "metadata": {
        "id": "MbWWh0oiP4uk",
        "colab_type": "text"
      },
      "cell_type": "markdown",
      "source": [
        "### Some Notebook Commands Reminders:\n",
        "<ul>\n",
        "    <li>Run a cell: CTRL + ENTER</li>\n",
        "    <li>Create a cell above a cell: a</li>\n",
        "    <li>Create a cell below a cell: b</li>\n",
        "    <li>Change a cell to Markdown: m</li>\n",
        "    \n",
        "    <li>Change a cell to code: y</li>\n",
        "</ul>\n",
        "\n",
        "<b> If you are interested in more keyboard shortcuts, go to Help -> Keyboard Shortcuts </b>"
      ]
    },
    {
      "metadata": {
        "id": "4sxNWcIPP4ut",
        "colab_type": "text"
      },
      "cell_type": "markdown",
      "source": [
        "<b> <i> Before starting the lab, please run the following code in order to access the solutions </i> </b>"
      ]
    },
    {
      "metadata": {
        "id": "1p_gisquP4ux",
        "colab_type": "code",
        "colab": {
          "base_uri": "https://localhost:8080/",
          "height": 16
        },
        "outputId": "286a82f0-e2e5-46d3-e8c2-5149842e54a0"
      },
      "cell_type": "code",
      "source": [
        "from IPython.core.display import HTML\n",
        "HTML(\"\"\"\n",
        "<style type=\"text/css\">\n",
        "    #ans:hover { background-color: black; }\n",
        "    #ans {padding: 6px; \n",
        "        background-color: white; \n",
        "        border: green 2px solid;\n",
        "        font-weight: bold}\n",
        "</style>\n",
        "\"\"\") "
      ],
      "execution_count": 5,
      "outputs": [
        {
          "output_type": "execute_result",
          "data": {
            "text/html": [
              "\n",
              "<style type=\"text/css\">\n",
              "    #ans:hover { background-color: black; }\n",
              "    #ans {padding: 6px; \n",
              "        background-color: white; \n",
              "        border: green 2px solid;\n",
              "        font-weight: bold}\n",
              "</style>\n"
            ],
            "text/plain": [
              "<IPython.core.display.HTML object>"
            ]
          },
          "metadata": {
            "tags": []
          },
          "execution_count": 5
        }
      ]
    },
    {
      "metadata": {
        "collapsed": true,
        "id": "4ddy-s2_P4u8",
        "colab_type": "text"
      },
      "cell_type": "markdown",
      "source": [
        "# <u>Dimensionality Reduction: Feature Selection with VarianceThreshold and Univariance</u>"
      ]
    },
    {
      "metadata": {
        "id": "IQ6GAFJyP4u_",
        "colab_type": "text"
      },
      "cell_type": "markdown",
      "source": [
        "We will first be looking at Feature Selection with <b>VarianceThreshold</b>. VarianceThreshold is a useful tool to removing features with a threshold variance. It is a simple and basic Feature Selection."
      ]
    },
    {
      "metadata": {
        "id": "MVqe-d7oP4vC",
        "colab_type": "text"
      },
      "cell_type": "markdown",
      "source": [
        "First import <b>VarianceThreshold</b> from sklearn.feature_selection"
      ]
    },
    {
      "metadata": {
        "id": "uoWbGbpoP4vF",
        "colab_type": "code",
        "colab": {}
      },
      "cell_type": "code",
      "source": [
        "from sklearn.feature_selection import VarianceThreshold"
      ],
      "execution_count": 0,
      "outputs": []
    },
    {
      "metadata": {
        "id": "S-XN_1hnP4vM",
        "colab_type": "text"
      },
      "cell_type": "markdown",
      "source": [
        "Hover over the green box below for the answer\n",
        "<p id=\"ans\"> \n",
        "<font color = \"white\"> from sklearn.feature_selection import VarianceThreshold</font>\n",
        "</p>"
      ]
    },
    {
      "metadata": {
        "id": "JEbPi6VKP4vN",
        "colab_type": "text"
      },
      "cell_type": "markdown",
      "source": [
        "Now let's instantiate <b>VarianceThreshold</b> as a variable called <b>sel</b>"
      ]
    },
    {
      "metadata": {
        "id": "LKhfQp-HP4vR",
        "colab_type": "code",
        "colab": {}
      },
      "cell_type": "code",
      "source": [
        "sel= VarianceThreshold()"
      ],
      "execution_count": 0,
      "outputs": []
    },
    {
      "metadata": {
        "id": "jRO3Km13P4vW",
        "colab_type": "text"
      },
      "cell_type": "markdown",
      "source": [
        "Hover over the green box below for the answer\n",
        "<p id=\"ans\"> \n",
        "<font color = \"white\"> sel = VarianceThreshold()</font>\n",
        "</p>"
      ]
    },
    {
      "metadata": {
        "id": "2IVQAUMSP4vY",
        "colab_type": "text"
      },
      "cell_type": "markdown",
      "source": [
        "Now <b>VarianceThreshold</b> removes all <b>zero-variance features</b> by default. These features are any <b>constant value</b> features. Given the dataset below, let's try to run <b>fit_transform</b> function from <b>sel</b> on it."
      ]
    },
    {
      "metadata": {
        "id": "nmF3Ly17P4va",
        "colab_type": "code",
        "colab": {
          "base_uri": "https://localhost:8080/",
          "height": 34
        },
        "outputId": "09a6b235-bf5b-4729-9f39-2c461a0721c8"
      },
      "cell_type": "code",
      "source": [
        "dataset = [[0, 2, 0, 3], [0, 1, 4, 3], [0, 1, 1, 3]]\n",
        "dataset"
      ],
      "execution_count": 8,
      "outputs": [
        {
          "output_type": "execute_result",
          "data": {
            "text/plain": [
              "[[0, 2, 0, 3], [0, 1, 4, 3], [0, 1, 1, 3]]"
            ]
          },
          "metadata": {
            "tags": []
          },
          "execution_count": 8
        }
      ]
    },
    {
      "metadata": {
        "id": "OZsZaJ4JP4vg",
        "colab_type": "code",
        "colab": {
          "base_uri": "https://localhost:8080/",
          "height": 70
        },
        "outputId": "045afb76-8f6f-4363-ba3c-3e77c24a61b1"
      },
      "cell_type": "code",
      "source": [
        "FitData=sel.fit_transform(dataset)\n",
        "FitData"
      ],
      "execution_count": 9,
      "outputs": [
        {
          "output_type": "execute_result",
          "data": {
            "text/plain": [
              "array([[2, 0],\n",
              "       [1, 4],\n",
              "       [1, 1]])"
            ]
          },
          "metadata": {
            "tags": []
          },
          "execution_count": 9
        }
      ]
    },
    {
      "metadata": {
        "id": "iY1Qpb77P4vn",
        "colab_type": "text"
      },
      "cell_type": "markdown",
      "source": [
        "Hover over the green box below for the answer\n",
        "<p id=\"ans\"> \n",
        "<font color = \"white\"> sel.fit_transform(dataset)</font>\n",
        "</p>"
      ]
    },
    {
      "metadata": {
        "id": "Gkjxq5FwP4vo",
        "colab_type": "text"
      },
      "cell_type": "markdown",
      "source": [
        "Now you should have only <b>three features</b> left. The last feature was removed since it had a <b>variance</b> of 0. You probably won't encounter constant value features very often, therefore you will want to keep a certain <b>threshold</b>. "
      ]
    },
    {
      "metadata": {
        "id": "wMj2--h_P4vq",
        "colab_type": "text"
      },
      "cell_type": "markdown",
      "source": [
        "We can change the threshold by adding <b>threshold='threshold value'</b> inside the brackets during the instantiation of <b>VarianceThreshold</b>. Where <b>'threshold value'</b> is equal to p(1-p)\n",
        "Where <b>'p'</b> is your threshold % in <b>decimal format</b>."
      ]
    },
    {
      "metadata": {
        "id": "mTncxvXUP4vs",
        "colab_type": "text"
      },
      "cell_type": "markdown",
      "source": [
        "So, for example if I wanted a threshold of <b>60%</b>, I would equate <b>threshold=0.6 * (1 - 0.6)</b>"
      ]
    },
    {
      "metadata": {
        "id": "U6_dBueQP4vu",
        "colab_type": "text"
      },
      "cell_type": "markdown",
      "source": [
        "Now let's instantiate another <b>VarianceThreshold</b> but with a threshold of <b>60%</b>. We'll called it <b>sel60</b>."
      ]
    },
    {
      "metadata": {
        "id": "Khc2_a_vP4vw",
        "colab_type": "code",
        "colab": {}
      },
      "cell_type": "code",
      "source": [
        "sel60=VarianceThreshold(threshold=0.6*(1-.6))"
      ],
      "execution_count": 0,
      "outputs": []
    },
    {
      "metadata": {
        "id": "gNJBg7z_P4vz",
        "colab_type": "text"
      },
      "cell_type": "markdown",
      "source": [
        "Hover over the green box below for the answer\n",
        "<p id=\"ans\"> \n",
        "<font color = \"white\"> sel60 = VarianceThreshold(threshold=(0.6 * (1 - 0.6)))</font>\n",
        "</p>"
      ]
    },
    {
      "metadata": {
        "id": "4_pSmmLrP4v0",
        "colab_type": "text"
      },
      "cell_type": "markdown",
      "source": [
        "Now let's <b>fit_transform</b> our dataset with <b>sel60</b>. Can you guess what will happen?"
      ]
    },
    {
      "metadata": {
        "id": "PY5v-NlzP4v2",
        "colab_type": "code",
        "colab": {
          "base_uri": "https://localhost:8080/",
          "height": 70
        },
        "outputId": "9ae704c5-4de0-4545-b753-6dd51ae8acbe"
      },
      "cell_type": "code",
      "source": [
        "FD=sel60.fit_transform(dataset)\n",
        "FD\n"
      ],
      "execution_count": 11,
      "outputs": [
        {
          "output_type": "execute_result",
          "data": {
            "text/plain": [
              "array([[0],\n",
              "       [4],\n",
              "       [1]])"
            ]
          },
          "metadata": {
            "tags": []
          },
          "execution_count": 11
        }
      ]
    },
    {
      "metadata": {
        "id": "uQ-qB__sP4v5",
        "colab_type": "text"
      },
      "cell_type": "markdown",
      "source": [
        "Hover over the green box below for the answer\n",
        "<p id=\"ans\"> \n",
        "<font color = \"white\"> sel60.fit_transform(dataset)</font>\n",
        "</p>"
      ]
    },
    {
      "metadata": {
        "id": "fp2zq9PcP4v7",
        "colab_type": "text"
      },
      "cell_type": "markdown",
      "source": [
        "You should only have <b>one feature</b> left. The third column feature was the only feature to have a variance of <b>at least 60%</b>."
      ]
    },
    {
      "metadata": {
        "id": "kDPYjMWDP4v9",
        "colab_type": "text"
      },
      "cell_type": "markdown",
      "source": [
        "Now let's look at <b>Univariance Feature Selection</b>."
      ]
    },
    {
      "metadata": {
        "id": "etwFQLU5P4v-",
        "colab_type": "text"
      },
      "cell_type": "markdown",
      "source": [
        "We will need to import <b>SelectKBest</b> from <b>sklearn.feature_selection</b>, <b>chi2</b> from <b>sklearn.feature_selection</b>, <b>numpy</b> as <b>np</b>, and <b>pandas</b>."
      ]
    },
    {
      "metadata": {
        "id": "YGIUHG2HP4wA",
        "colab_type": "code",
        "colab": {}
      },
      "cell_type": "code",
      "source": [
        "from sklearn.feature_selection import SelectKBest\n",
        "from sklearn.feature_selection import chi2\n",
        "import numpy as np\n",
        "import pandas \n"
      ],
      "execution_count": 0,
      "outputs": []
    },
    {
      "metadata": {
        "id": "02CjzjCqP4wD",
        "colab_type": "text"
      },
      "cell_type": "markdown",
      "source": [
        "Hover over the green box below for the answer\n",
        "<p id=\"ans\"> \n",
        "<font color = \"white\"> from sklearn.feature_selection import SelectKBest <br>\n",
        "from sklearn.feature_selection import chi2 <br>\n",
        "import numpy as np <br>\n",
        "import pandas</font>\n",
        "</p>"
      ]
    },
    {
      "metadata": {
        "id": "UFPb8qvWP4wF",
        "colab_type": "text"
      },
      "cell_type": "markdown",
      "source": [
        "Now we will be working with the <b>skulls dataset</b> once again. Using the <b>my_data</b> variable and <b>removeColumns</b> function, create a variable called <b>X</b> which has the <b>row column dropped</b>."
      ]
    },
    {
      "metadata": {
        "id": "xUnCKDh3P4wG",
        "colab_type": "code",
        "colab": {}
      },
      "cell_type": "code",
      "source": [
        "my_data = pandas.read_csv(\"https://vincentarelbundock.github.io/Rdatasets/csv/HSAUR/skulls.csv\", delimiter=\",\")"
      ],
      "execution_count": 0,
      "outputs": []
    },
    {
      "metadata": {
        "id": "vubbgIAXP4wJ",
        "colab_type": "code",
        "colab": {}
      },
      "cell_type": "code",
      "source": [
        "# Remove the column containing the target name since it doesn't contain numeric values.\n",
        "# Also remove the column that contains the row number\n",
        "# axis=1 means we are removing columns instead of rows.\n",
        "# Function takes in a pandas array and column numbers and returns a numpy array without\n",
        "# the stated columns\n",
        "def removeColumns(pandasArray, *column):\n",
        "    return pandasArray.drop(pandasArray.columns[[column]], axis=1).values"
      ],
      "execution_count": 0,
      "outputs": []
    },
    {
      "metadata": {
        "id": "eeJdASVgGqep",
        "colab_type": "code",
        "colab": {
          "base_uri": "https://localhost:8080/",
          "height": 197
        },
        "outputId": "24e59e46-5376-4b8c-9bff-7f0642c79070"
      },
      "cell_type": "code",
      "source": [
        "my_data.head()"
      ],
      "execution_count": 60,
      "outputs": [
        {
          "output_type": "execute_result",
          "data": {
            "text/html": [
              "<div>\n",
              "<style scoped>\n",
              "    .dataframe tbody tr th:only-of-type {\n",
              "        vertical-align: middle;\n",
              "    }\n",
              "\n",
              "    .dataframe tbody tr th {\n",
              "        vertical-align: top;\n",
              "    }\n",
              "\n",
              "    .dataframe thead th {\n",
              "        text-align: right;\n",
              "    }\n",
              "</style>\n",
              "<table border=\"1\" class=\"dataframe\">\n",
              "  <thead>\n",
              "    <tr style=\"text-align: right;\">\n",
              "      <th></th>\n",
              "      <th>Unnamed: 0</th>\n",
              "      <th>epoch</th>\n",
              "      <th>mb</th>\n",
              "      <th>bh</th>\n",
              "      <th>bl</th>\n",
              "      <th>nh</th>\n",
              "    </tr>\n",
              "  </thead>\n",
              "  <tbody>\n",
              "    <tr>\n",
              "      <th>0</th>\n",
              "      <td>1</td>\n",
              "      <td>c4000BC</td>\n",
              "      <td>131</td>\n",
              "      <td>138</td>\n",
              "      <td>89</td>\n",
              "      <td>49</td>\n",
              "    </tr>\n",
              "    <tr>\n",
              "      <th>1</th>\n",
              "      <td>2</td>\n",
              "      <td>c4000BC</td>\n",
              "      <td>125</td>\n",
              "      <td>131</td>\n",
              "      <td>92</td>\n",
              "      <td>48</td>\n",
              "    </tr>\n",
              "    <tr>\n",
              "      <th>2</th>\n",
              "      <td>3</td>\n",
              "      <td>c4000BC</td>\n",
              "      <td>131</td>\n",
              "      <td>132</td>\n",
              "      <td>99</td>\n",
              "      <td>50</td>\n",
              "    </tr>\n",
              "    <tr>\n",
              "      <th>3</th>\n",
              "      <td>4</td>\n",
              "      <td>c4000BC</td>\n",
              "      <td>119</td>\n",
              "      <td>132</td>\n",
              "      <td>96</td>\n",
              "      <td>44</td>\n",
              "    </tr>\n",
              "    <tr>\n",
              "      <th>4</th>\n",
              "      <td>5</td>\n",
              "      <td>c4000BC</td>\n",
              "      <td>136</td>\n",
              "      <td>143</td>\n",
              "      <td>100</td>\n",
              "      <td>54</td>\n",
              "    </tr>\n",
              "  </tbody>\n",
              "</table>\n",
              "</div>"
            ],
            "text/plain": [
              "   Unnamed: 0    epoch   mb   bh   bl  nh\n",
              "0           1  c4000BC  131  138   89  49\n",
              "1           2  c4000BC  125  131   92  48\n",
              "2           3  c4000BC  131  132   99  50\n",
              "3           4  c4000BC  119  132   96  44\n",
              "4           5  c4000BC  136  143  100  54"
            ]
          },
          "metadata": {
            "tags": []
          },
          "execution_count": 60
        }
      ]
    },
    {
      "metadata": {
        "id": "586zIkmGP4wN",
        "colab_type": "code",
        "colab": {}
      },
      "cell_type": "code",
      "source": [
        "X=my_data.drop(['epoch','Unnamed: 0'], axis=1).values"
      ],
      "execution_count": 0,
      "outputs": []
    },
    {
      "metadata": {
        "id": "AHvf0ha_WWTR",
        "colab_type": "code",
        "colab": {}
      },
      "cell_type": "code",
      "source": [
        "Z=removeColumns(my_data,0,1)\n",
        "#my_data.reset_index(drop=True, inplace=False)\n"
      ],
      "execution_count": 0,
      "outputs": []
    },
    {
      "metadata": {
        "id": "EN6WVHF8P4wU",
        "colab_type": "text"
      },
      "cell_type": "markdown",
      "source": [
        "Hover over the green box below for the answer\n",
        "<p id = \"ans\"> <font color = \"white\"> X = removeColumns(my_data, 0, 1) </font> </p>"
      ]
    },
    {
      "metadata": {
        "id": "CeIcJdFsP4wV",
        "colab_type": "text"
      },
      "cell_type": "markdown",
      "source": [
        "Now use the <b>target function</b> to obtain the <b>Response Vector</b> of <b>my_data</b> and store it as <b>y</b>"
      ]
    },
    {
      "metadata": {
        "id": "LmgARsTqP4wW",
        "colab_type": "code",
        "colab": {}
      },
      "cell_type": "code",
      "source": [
        "def target(numpyArray, targetColumnIndex):\n",
        "    target_dict = dict()\n",
        "    target = list()\n",
        "    count = -1\n",
        "    for i in range(len(my_data.values)):\n",
        "        if my_data.values[i][targetColumnIndex] not in target_dict:\n",
        "            count += 1\n",
        "            target_dict[my_data.values[i][targetColumnIndex]] = count\n",
        "        target.append(target_dict[my_data.values[i][targetColumnIndex]])\n",
        "    return np.asarray(target)"
      ],
      "execution_count": 0,
      "outputs": []
    },
    {
      "metadata": {
        "id": "b0hzSgyjNA0Y",
        "colab_type": "code",
        "colab": {
          "base_uri": "https://localhost:8080/",
          "height": 34
        },
        "outputId": "633eeb5b-5e6f-4adc-bbc0-0ba5a2e5810d"
      },
      "cell_type": "code",
      "source": [
        "target=my_data['epoch']\n",
        "target.unique()"
      ],
      "execution_count": 8,
      "outputs": [
        {
          "output_type": "execute_result",
          "data": {
            "text/plain": [
              "array(['c4000BC', 'c3300BC', 'c1850BC', 'c200BC', 'cAD150'], dtype=object)"
            ]
          },
          "metadata": {
            "tags": []
          },
          "execution_count": 8
        }
      ]
    },
    {
      "metadata": {
        "id": "snb_SGrhAWVm",
        "colab_type": "code",
        "colab": {
          "base_uri": "https://localhost:8080/",
          "height": 185
        },
        "outputId": "abe3945c-6998-459d-93dd-ec4019d188e3"
      },
      "cell_type": "code",
      "source": [
        "target=my_data.columns([\"u'epoch'\"])\n",
        "target"
      ],
      "execution_count": 57,
      "outputs": [
        {
          "output_type": "error",
          "ename": "TypeError",
          "evalue": "ignored",
          "traceback": [
            "\u001b[0;31m\u001b[0m",
            "\u001b[0;31mTypeError\u001b[0mTraceback (most recent call last)",
            "\u001b[0;32m<ipython-input-57-3ef442eff408>\u001b[0m in \u001b[0;36m<module>\u001b[0;34m()\u001b[0m\n\u001b[0;32m----> 1\u001b[0;31m \u001b[0mtarget\u001b[0m\u001b[0;34m=\u001b[0m\u001b[0mmy_data\u001b[0m\u001b[0;34m.\u001b[0m\u001b[0mcolumns\u001b[0m\u001b[0;34m(\u001b[0m\u001b[0;34m[\u001b[0m\u001b[0;34m\"u'epoch'\"\u001b[0m\u001b[0;34m]\u001b[0m\u001b[0;34m)\u001b[0m\u001b[0;34m\u001b[0m\u001b[0m\n\u001b[0m\u001b[1;32m      2\u001b[0m \u001b[0mtarget\u001b[0m\u001b[0;34m\u001b[0m\u001b[0m\n",
            "\u001b[0;31mTypeError\u001b[0m: 'Index' object is not callable"
          ]
        }
      ]
    },
    {
      "metadata": {
        "id": "st6acYYrPPdk",
        "colab_type": "code",
        "colab": {}
      },
      "cell_type": "code",
      "source": [
        "y=target"
      ],
      "execution_count": 0,
      "outputs": []
    },
    {
      "metadata": {
        "id": "LrfhbZWLP4wa",
        "colab_type": "code",
        "colab": {}
      },
      "cell_type": "code",
      "source": [
        "y=target(my_data,1)"
      ],
      "execution_count": 0,
      "outputs": []
    },
    {
      "metadata": {
        "id": "ZI328-TRP4wd",
        "colab_type": "text"
      },
      "cell_type": "markdown",
      "source": [
        "Hover over the green box below for the answer\n",
        "<p id=\"ans\"><font color = \"white\">y = target(my_data, 1)</font>\n",
        "</p>"
      ]
    },
    {
      "metadata": {
        "id": "7hjD53UqP4we",
        "colab_type": "text"
      },
      "cell_type": "markdown",
      "source": [
        "Now take a look at <b>X's shape</b> before the feature selection"
      ]
    },
    {
      "metadata": {
        "id": "Kak_wB_LP4wf",
        "colab_type": "code",
        "colab": {
          "base_uri": "https://localhost:8080/",
          "height": 34
        },
        "outputId": "9cc6919f-fd82-4247-a13b-984f84baaac4"
      },
      "cell_type": "code",
      "source": [
        "X.shape"
      ],
      "execution_count": 41,
      "outputs": [
        {
          "output_type": "execute_result",
          "data": {
            "text/plain": [
              "(150, 4)"
            ]
          },
          "metadata": {
            "tags": []
          },
          "execution_count": 41
        }
      ]
    },
    {
      "metadata": {
        "id": "ydBaX9rKP4wh",
        "colab_type": "text"
      },
      "cell_type": "markdown",
      "source": [
        "Hover over the green box below for the answer\n",
        "<p id=\"ans\"><font color = \"white\">X.shape</font>\n",
        "</p>"
      ]
    },
    {
      "metadata": {
        "id": "psxKxo5yP4wi",
        "colab_type": "text"
      },
      "cell_type": "markdown",
      "source": [
        "Now we will use the <b>fit_transform</b> function with parameters <b>X</b>, <b>y</b> of <b>SelectKBest</b> with parameters <b>chi2</b>, <b>k=3</b>. This will be stored as <b>X_new</b>.\n",
        "<br><br>\n",
        "<b>Note</b>: There is a VisibleDeprecationWarning, you can ignore it."
      ]
    },
    {
      "metadata": {
        "id": "aaJpxROvP4wj",
        "colab_type": "code",
        "colab": {}
      },
      "cell_type": "code",
      "source": [
        "KBest=SelectKBest(chi2,k=3)\n",
        "X_new= KBest.fit_transform(X,y)"
      ],
      "execution_count": 0,
      "outputs": []
    },
    {
      "metadata": {
        "id": "iC5TN3-WP4wr",
        "colab_type": "text"
      },
      "cell_type": "markdown",
      "source": [
        "Hover over the green box below for the answer\n",
        "<p id=\"ans\"><font color = \"white\">X_new = SelectKBest(chi2, k=3).fit_transform(X, y)</font>\n",
        "</p>"
      ]
    },
    {
      "metadata": {
        "id": "vrbcrnNUP4ws",
        "colab_type": "text"
      },
      "cell_type": "markdown",
      "source": [
        "Now let's check out the shape of <b>X_new</b>, it should have <b>one less</b> feature than before!"
      ]
    },
    {
      "metadata": {
        "id": "-M_F99xtP4ws",
        "colab_type": "code",
        "colab": {
          "base_uri": "https://localhost:8080/",
          "height": 2683
        },
        "outputId": "7cd2dd01-be65-4c8b-b0aa-42e7c5be28e5"
      },
      "cell_type": "code",
      "source": [
        "X_new"
      ],
      "execution_count": 21,
      "outputs": [
        {
          "output_type": "execute_result",
          "data": {
            "text/plain": [
              "array([[131, 138,  89],\n",
              "       [125, 131,  92],\n",
              "       [131, 132,  99],\n",
              "       [119, 132,  96],\n",
              "       [136, 143, 100],\n",
              "       [138, 137,  89],\n",
              "       [139, 130, 108],\n",
              "       [125, 136,  93],\n",
              "       [131, 134, 102],\n",
              "       [134, 134,  99],\n",
              "       [129, 138,  95],\n",
              "       [134, 121,  95],\n",
              "       [126, 129, 109],\n",
              "       [132, 136, 100],\n",
              "       [141, 140, 100],\n",
              "       [131, 134,  97],\n",
              "       [135, 137, 103],\n",
              "       [132, 133,  93],\n",
              "       [139, 136,  96],\n",
              "       [132, 131, 101],\n",
              "       [126, 133, 102],\n",
              "       [135, 135, 103],\n",
              "       [134, 124,  93],\n",
              "       [128, 134, 103],\n",
              "       [130, 130, 104],\n",
              "       [138, 135, 100],\n",
              "       [128, 132,  93],\n",
              "       [127, 129, 106],\n",
              "       [131, 136, 114],\n",
              "       [124, 138, 101],\n",
              "       [124, 138, 101],\n",
              "       [133, 134,  97],\n",
              "       [138, 134,  98],\n",
              "       [148, 129, 104],\n",
              "       [126, 124,  95],\n",
              "       [135, 136,  98],\n",
              "       [132, 145, 100],\n",
              "       [133, 130, 102],\n",
              "       [131, 134,  96],\n",
              "       [133, 125,  94],\n",
              "       [133, 136, 103],\n",
              "       [131, 139,  98],\n",
              "       [131, 136,  99],\n",
              "       [138, 134,  98],\n",
              "       [130, 136, 104],\n",
              "       [131, 128,  98],\n",
              "       [138, 129, 107],\n",
              "       [123, 131, 101],\n",
              "       [130, 129, 105],\n",
              "       [134, 130,  93],\n",
              "       [137, 136, 106],\n",
              "       [126, 131, 100],\n",
              "       [135, 136,  97],\n",
              "       [129, 126,  91],\n",
              "       [134, 139, 101],\n",
              "       [131, 134,  90],\n",
              "       [132, 130, 104],\n",
              "       [130, 132,  93],\n",
              "       [135, 132,  98],\n",
              "       [130, 128, 101],\n",
              "       [137, 141,  96],\n",
              "       [129, 133,  93],\n",
              "       [132, 138,  87],\n",
              "       [130, 134, 106],\n",
              "       [134, 134,  96],\n",
              "       [140, 133,  98],\n",
              "       [138, 138,  95],\n",
              "       [136, 145,  99],\n",
              "       [136, 131,  92],\n",
              "       [126, 136,  95],\n",
              "       [137, 129, 100],\n",
              "       [137, 139,  97],\n",
              "       [136, 126, 101],\n",
              "       [137, 133,  90],\n",
              "       [129, 142, 104],\n",
              "       [135, 138, 102],\n",
              "       [129, 135,  92],\n",
              "       [134, 125,  90],\n",
              "       [138, 134,  96],\n",
              "       [136, 135,  94],\n",
              "       [132, 130,  91],\n",
              "       [133, 131, 100],\n",
              "       [138, 137,  94],\n",
              "       [130, 127,  99],\n",
              "       [136, 133,  91],\n",
              "       [134, 123,  95],\n",
              "       [136, 137, 101],\n",
              "       [133, 131,  96],\n",
              "       [138, 133, 100],\n",
              "       [138, 133,  91],\n",
              "       [137, 134, 107],\n",
              "       [141, 128,  95],\n",
              "       [141, 130,  87],\n",
              "       [135, 131,  99],\n",
              "       [133, 120,  91],\n",
              "       [131, 135,  90],\n",
              "       [140, 137,  94],\n",
              "       [139, 130,  90],\n",
              "       [140, 134,  90],\n",
              "       [138, 140, 100],\n",
              "       [132, 133,  90],\n",
              "       [134, 134,  97],\n",
              "       [135, 135,  99],\n",
              "       [133, 136,  95],\n",
              "       [136, 130,  99],\n",
              "       [134, 137,  93],\n",
              "       [131, 141,  99],\n",
              "       [129, 135,  95],\n",
              "       [136, 128,  93],\n",
              "       [131, 125,  88],\n",
              "       [139, 130,  94],\n",
              "       [144, 124,  86],\n",
              "       [141, 131,  97],\n",
              "       [130, 131,  98],\n",
              "       [133, 128,  92],\n",
              "       [138, 126,  97],\n",
              "       [131, 142,  95],\n",
              "       [136, 138,  94],\n",
              "       [132, 136,  92],\n",
              "       [135, 130, 100],\n",
              "       [137, 123,  91],\n",
              "       [136, 131,  95],\n",
              "       [128, 126,  91],\n",
              "       [130, 134,  92],\n",
              "       [138, 127,  86],\n",
              "       [126, 138, 101],\n",
              "       [136, 138,  97],\n",
              "       [126, 126,  92],\n",
              "       [132, 132,  99],\n",
              "       [139, 135,  92],\n",
              "       [143, 120,  95],\n",
              "       [141, 136, 101],\n",
              "       [135, 135,  95],\n",
              "       [137, 134,  93],\n",
              "       [142, 135,  96],\n",
              "       [139, 134,  95],\n",
              "       [138, 125,  99],\n",
              "       [137, 135,  96],\n",
              "       [133, 125,  92],\n",
              "       [145, 129,  89],\n",
              "       [138, 136,  92],\n",
              "       [131, 129,  97],\n",
              "       [143, 126,  88],\n",
              "       [134, 124,  91],\n",
              "       [132, 127,  97],\n",
              "       [137, 125,  85],\n",
              "       [129, 128,  81],\n",
              "       [140, 135, 103],\n",
              "       [147, 129,  87],\n",
              "       [136, 133,  97]])"
            ]
          },
          "metadata": {
            "tags": []
          },
          "execution_count": 21
        }
      ]
    },
    {
      "metadata": {
        "id": "wuZhCMVEEv76",
        "colab_type": "code",
        "colab": {}
      },
      "cell_type": "code",
      "source": [
        "XYData = pandas.DataFrame({'mb':X_new[:,0],'bl':X_new[:,1]})\n",
        "XYData"
      ],
      "execution_count": 0,
      "outputs": []
    },
    {
      "metadata": {
        "id": "LJjIUOjSP4ww",
        "colab_type": "text"
      },
      "cell_type": "markdown",
      "source": [
        "Hover over the green box below for the answer\n",
        "<p id=\"ans\"><font color = \"white\">X_new.shape</font>\n",
        "</p>"
      ]
    },
    {
      "metadata": {
        "collapsed": true,
        "id": "MC4-xSfYP4wy",
        "colab_type": "text"
      },
      "cell_type": "markdown",
      "source": [
        "How <b>Univariance</b> works is that it selects <b>features</b> based off of <b>univariance statistical tests</b>. <b>chi2</b> is used as a <b>univariance scoring function</b> which returns <b>p</b> values. We specified <b>k=3</b> for the <b>3 best features</b> to be chosen. Now we will move onto <b>Feature Extraction!</b>"
      ]
    },
    {
      "metadata": {
        "collapsed": true,
        "id": "oozBDw6nP4wz",
        "colab_type": "text"
      },
      "cell_type": "markdown",
      "source": [
        "## <u>Feature Extraction with DictVectorizer and PCA</u>"
      ]
    },
    {
      "metadata": {
        "id": "911G-6K5P4w0",
        "colab_type": "text"
      },
      "cell_type": "markdown",
      "source": [
        "<b>DictVectorizer</b> is a very simple <b>Feature Extraction</b> class as it can be used to <b>convert feature arrays</b> in a <b>dict</b> to <b>NumPy/SciPy</b> representations."
      ]
    },
    {
      "metadata": {
        "id": "227e_uGjP4w0",
        "colab_type": "text"
      },
      "cell_type": "markdown",
      "source": [
        "First we will need to import <b>DictVectorizer</b> from <b>sklearn.feature_extraction</b>"
      ]
    },
    {
      "metadata": {
        "id": "n1KLnlEqP4w1",
        "colab_type": "code",
        "colab": {}
      },
      "cell_type": "code",
      "source": [
        "from sklearn.feature_extraction import DictVectorizer"
      ],
      "execution_count": 0,
      "outputs": []
    },
    {
      "metadata": {
        "id": "wxL3yvJVP4w4",
        "colab_type": "text"
      },
      "cell_type": "markdown",
      "source": [
        "Hover over the green box below for the answer\n",
        "<p id=\"ans\"><font color = \"white\">from sklearn.feature_extraction import DictVectorizer</font>\n",
        "</p>"
      ]
    },
    {
      "metadata": {
        "id": "Pf4I2kQiP4w7",
        "colab_type": "text"
      },
      "cell_type": "markdown",
      "source": [
        "We will use the following <b>dictionary</b> to be <b>converted</b>."
      ]
    },
    {
      "metadata": {
        "id": "GG_hH5NCP4w8",
        "colab_type": "code",
        "colab": {}
      },
      "cell_type": "code",
      "source": [
        "datasets = [\n",
        "...     {'Day': 'Monday', 'Temperature': 18},\n",
        "...     {'Day': 'Tuesday', 'Temperature': 13},\n",
        "...     {'Day': 'Wednesday', 'Temperature': 7},\n",
        "... ]"
      ],
      "execution_count": 0,
      "outputs": []
    },
    {
      "metadata": {
        "id": "uTIgz4q8P4w_",
        "colab_type": "text"
      },
      "cell_type": "markdown",
      "source": [
        "Now create an <b>instance</b> of <b>DictVectorizer</b> called <b>vec</b>"
      ]
    },
    {
      "metadata": {
        "id": "rLRQPAsvP4xA",
        "colab_type": "code",
        "colab": {}
      },
      "cell_type": "code",
      "source": [
        "vec=DictVectorizer()"
      ],
      "execution_count": 0,
      "outputs": []
    },
    {
      "metadata": {
        "id": "lXGehOUdP4xE",
        "colab_type": "text"
      },
      "cell_type": "markdown",
      "source": [
        "Hover over the green box below for the answer\n",
        "<p id=\"ans\"><font color = \"white\">vec = DictVectorizer()</font>\n",
        "</p>"
      ]
    },
    {
      "metadata": {
        "id": "OjPZ6FcaP4xH",
        "colab_type": "text"
      },
      "cell_type": "markdown",
      "source": [
        "Now we will use the <b>fit_transform</b> function of <b>vec</b> with the parameter <b>dataset</b> and use the <b>.toarray()</b> on the final product"
      ]
    },
    {
      "metadata": {
        "id": "M3tKtdPFP4xI",
        "colab_type": "code",
        "colab": {
          "base_uri": "https://localhost:8080/",
          "height": 70
        },
        "outputId": "fd0bfe10-576f-4c34-ac05-f4093e22cae5"
      },
      "cell_type": "code",
      "source": [
        "A=vec.fit_transform(datasets)\n",
        "A.toarray()"
      ],
      "execution_count": 74,
      "outputs": [
        {
          "output_type": "execute_result",
          "data": {
            "text/plain": [
              "array([[ 1.,  0.,  0., 18.],\n",
              "       [ 0.,  1.,  0., 13.],\n",
              "       [ 0.,  0.,  1.,  7.]])"
            ]
          },
          "metadata": {
            "tags": []
          },
          "execution_count": 74
        }
      ]
    },
    {
      "metadata": {
        "id": "qeqcbcPfP4xN",
        "colab_type": "text"
      },
      "cell_type": "markdown",
      "source": [
        "Hover over the green box below for the answer\n",
        "<p id=\"ans\"><font color = \"white\">vec.fit_transform(dataset).toarray()</font>\n",
        "</p>"
      ]
    },
    {
      "metadata": {
        "id": "3kRMk1wWP4xP",
        "colab_type": "text"
      },
      "cell_type": "markdown",
      "source": [
        "Now we can see that our <b>dataset</b> has been <b>converted</b> into an <b>array format</b> but pertaining its <b>data</b>. We can further review the <b>data</b> with the <b>get_feature_names</b> function of <b>vec</b>."
      ]
    },
    {
      "metadata": {
        "id": "BbDj4VL8P4xP",
        "colab_type": "code",
        "colab": {
          "base_uri": "https://localhost:8080/",
          "height": 34
        },
        "outputId": "b17e0ac7-4823-41d8-997d-c962b33637e4"
      },
      "cell_type": "code",
      "source": [
        "Features=vec.get_feature_names()\n",
        "Features"
      ],
      "execution_count": 76,
      "outputs": [
        {
          "output_type": "execute_result",
          "data": {
            "text/plain": [
              "['Day=Monday', 'Day=Tuesday', 'Day=Wednesday', 'Temperature']"
            ]
          },
          "metadata": {
            "tags": []
          },
          "execution_count": 76
        }
      ]
    },
    {
      "metadata": {
        "id": "Z1Ripr9aP4xS",
        "colab_type": "text"
      },
      "cell_type": "markdown",
      "source": [
        "Hover over the green box below for the answer\n",
        "<p id=\"ans\"><font color = \"white\">vec.get_feature_names()</font>\n",
        "</p>"
      ]
    },
    {
      "metadata": {
        "collapsed": true,
        "id": "HO7VhkNRP4xS",
        "colab_type": "text"
      },
      "cell_type": "markdown",
      "source": [
        "Now we will use <b>PCA</b> to represent the <b>data</b> we used in feature selection(<b>X_new</b>) and project it's dimensions so make sure you have completed that portion! But first we must import <b>matplotlib.pyplot</b> as <b>plt</b>, <b>Axes3D</b> from <b>mpl_toolkits.mplot3d</b>, and <b>decomposition</b> from <b>sklearn</b>. <i>(And numpy as np if you haven't already!)</i> Make sure you include the <b>%matplotlib inline</b> to have the plot show up in your notebook!"
      ]
    },
    {
      "metadata": {
        "id": "ZOXpe4JoP4xT",
        "colab_type": "code",
        "colab": {}
      },
      "cell_type": "code",
      "source": [
        "from sklearn.decomposition import PCA\n",
        "import numpy as np\n",
        "import matplotlib.pyplot as plt\n",
        "from mpl_toolkits.mplot3d import Axes3D\n"
      ],
      "execution_count": 0,
      "outputs": []
    },
    {
      "metadata": {
        "id": "X_DBX3KrP4xV",
        "colab_type": "text"
      },
      "cell_type": "markdown",
      "source": [
        "Hover over the green box below for the answer\n",
        "<p id=\"ans\"><font color = \"white\">import matplotlib.pyplot as plt<br>\n",
        "from mpl_toolkits.mplot3d import Axes3D<br>\n",
        "from sklearn import decomposition<br>\n",
        "%matplotlib inline</font>\n",
        "</p>"
      ]
    },
    {
      "metadata": {
        "id": "qOVTu-onP4xW",
        "colab_type": "text"
      },
      "cell_type": "markdown",
      "source": [
        "Now we will just create instances of <b>plt.figure</b> as <b>fig</b> and <b>Axes3D</b> as <b>ax</b> with the following dimensions. In this case we specificed dimensions where <b>elev=0</b> and <b>azim=0</b> to see the graph from where the <b>z plane = 0</b>. This will be useful to <b>visualize</b> the <b>difference</b> later on.\n",
        "\n",
        "<i> Note: You can change the elev and azim later on to see the graph in different ways. But it is suggested to keep it as is for now.</i>"
      ]
    },
    {
      "metadata": {
        "id": "yE2Ece0cP4xX",
        "colab_type": "text"
      },
      "cell_type": "markdown",
      "source": [
        "We will plot <b>X_new</b> against <b>y</b> with the <b>scatter</b> function of <b>ax</b>. The <b>scatter</b> function will include all of <b>X_new's column data</b> (each as a seperate parameter), <b>c=y</b>, and <b>cmap=plt.cm.spectral</b> as below."
      ]
    },
    {
      "metadata": {
        "id": "1ayoKvY8P4xX",
        "colab_type": "text"
      },
      "cell_type": "markdown",
      "source": [
        "<b>Note</b>: You can ignore the FutureWarning."
      ]
    },
    {
      "metadata": {
        "id": "dAKrTlyBP4xZ",
        "colab_type": "code",
        "colab": {}
      },
      "cell_type": "code",
      "source": [
        "fig = plt.figure(1, figsize=(10, 8,))\n",
        "ax = Axes3D(fig, rect=[0, 0, .95, 1], elev=0, azim=0)\n",
        "ax.scatter(X_new[:, 0], X_new[:, 1], X_new[:, 2], c=y, cmap=plt.cm.spectral)"
      ],
      "execution_count": 0,
      "outputs": []
    },
    {
      "metadata": {
        "id": "OrixWM_DP4xc",
        "colab_type": "text"
      },
      "cell_type": "markdown",
      "source": [
        "Now you know what a <b>3D representation</b> of that data looks like from a <b>z = 0 plane perspective</b>, we will create an instance of <b>decomposition.PCA</b> called <b>pca</b> with parameters of <b>n_components=2</b>."
      ]
    },
    {
      "metadata": {
        "id": "0VEKTLSxP4xc",
        "colab_type": "code",
        "colab": {}
      },
      "cell_type": "code",
      "source": [
        "pca=PCA(n_components=2)"
      ],
      "execution_count": 0,
      "outputs": []
    },
    {
      "metadata": {
        "id": "g24ws-kyP4xf",
        "colab_type": "text"
      },
      "cell_type": "markdown",
      "source": [
        "Hover over the green box below for the answer\n",
        "<p id=\"ans\"><font color = \"white\">pca = decomposition.PCA(n_components=2)</font>\n",
        "</p>"
      ]
    },
    {
      "metadata": {
        "id": "7kq_GBxuP4xg",
        "colab_type": "text"
      },
      "cell_type": "markdown",
      "source": [
        "Now, like you have done in previous labs, we will <b>fit</b> the data with the <b>fit</b> function of <b>pca</b> with parameter <b>X_new</b>"
      ]
    },
    {
      "metadata": {
        "id": "dk9TgdteP4xh",
        "colab_type": "code",
        "colab": {
          "base_uri": "https://localhost:8080/",
          "height": 52
        },
        "outputId": "a91d5f6f-2073-4f42-fe0c-2b2d29c60261"
      },
      "cell_type": "code",
      "source": [
        "pca.fit(X_new)"
      ],
      "execution_count": 25,
      "outputs": [
        {
          "output_type": "execute_result",
          "data": {
            "text/plain": [
              "PCA(copy=True, iterated_power='auto', n_components=2, random_state=None,\n",
              "  svd_solver='auto', tol=0.0, whiten=False)"
            ]
          },
          "metadata": {
            "tags": []
          },
          "execution_count": 25
        }
      ]
    },
    {
      "metadata": {
        "id": "04FcnJGXP4xj",
        "colab_type": "text"
      },
      "cell_type": "markdown",
      "source": [
        "Hover over the green box below for the answer\n",
        "<p id=\"ans\"><font color = \"white\">pca.fit(X_new)</font>\n",
        "</p>"
      ]
    },
    {
      "metadata": {
        "id": "vrsdappcP4xk",
        "colab_type": "text"
      },
      "cell_type": "markdown",
      "source": [
        "Use the <b>transform</b> function of <b>pca</b> with parameter <b>X_new</b> and equate it to a new variable called <b>PCA_X</b>. This will be the <b>projection</b> resulting in the change of <b>3 features</b> to <b>2</b>."
      ]
    },
    {
      "metadata": {
        "id": "pgBFhNO4P4xl",
        "colab_type": "code",
        "colab": {}
      },
      "cell_type": "code",
      "source": [
        "PCA_X=pca.transform(X_new)"
      ],
      "execution_count": 0,
      "outputs": []
    },
    {
      "metadata": {
        "id": "I8PlpRTFP4xs",
        "colab_type": "text"
      },
      "cell_type": "markdown",
      "source": [
        "Hover over the green box below for the answer\n",
        "<p id=\"ans\"><font color = \"white\">PCA_X = pca.transform(X_new)</font>\n",
        "</p>"
      ]
    },
    {
      "metadata": {
        "id": "4yi0ccjXP4xt",
        "colab_type": "text"
      },
      "cell_type": "markdown",
      "source": [
        "Now plot <b>PCA_X</b> with <b>y</b> using the <b>scatter</b> function of <b>ax</b> as we did before. All the <b>parameters</b> will be the <b>same</b> except you are using <b>PCA_X</b> and the <b>highest</b> index column you are going to is <b>PCA_X[:, 1]</b>. Make sure you include the <b>fig</b> and <b>ax</b> declaration to make the graph show up!"
      ]
    },
    {
      "metadata": {
        "id": "fdgKLWY5P4xv",
        "colab_type": "code",
        "colab": {
          "base_uri": "https://localhost:8080/",
          "height": 1186
        },
        "outputId": "9017ba51-2e26-414c-a7f7-18a7f8a1fb1f"
      },
      "cell_type": "code",
      "source": [
        "fig = plt.figure(1, figsize=(10, 8))\n",
        "ax = Axes3D(fig, rect=[0, 0, .95, 1], elev=0, azim=0)\n",
        "ax.scatter(PCA_X[:, 0], PCA_X[:, 1], c=y, cmap=plt.cm.spectral)"
      ],
      "execution_count": 28,
      "outputs": [
        {
          "output_type": "error",
          "ename": "ValueError",
          "evalue": "ignored",
          "traceback": [
            "\u001b[0;31m\u001b[0m",
            "\u001b[0;31mValueError\u001b[0mTraceback (most recent call last)",
            "\u001b[0;32m<ipython-input-28-527884ed0d5d>\u001b[0m in \u001b[0;36m<module>\u001b[0;34m()\u001b[0m\n\u001b[1;32m      1\u001b[0m \u001b[0mfig\u001b[0m \u001b[0;34m=\u001b[0m \u001b[0mplt\u001b[0m\u001b[0;34m.\u001b[0m\u001b[0mfigure\u001b[0m\u001b[0;34m(\u001b[0m\u001b[0;36m1\u001b[0m\u001b[0;34m,\u001b[0m \u001b[0mfigsize\u001b[0m\u001b[0;34m=\u001b[0m\u001b[0;34m(\u001b[0m\u001b[0;36m10\u001b[0m\u001b[0;34m,\u001b[0m \u001b[0;36m8\u001b[0m\u001b[0;34m)\u001b[0m\u001b[0;34m)\u001b[0m\u001b[0;34m\u001b[0m\u001b[0m\n\u001b[1;32m      2\u001b[0m \u001b[0max\u001b[0m \u001b[0;34m=\u001b[0m \u001b[0mAxes3D\u001b[0m\u001b[0;34m(\u001b[0m\u001b[0mfig\u001b[0m\u001b[0;34m,\u001b[0m \u001b[0mrect\u001b[0m\u001b[0;34m=\u001b[0m\u001b[0;34m[\u001b[0m\u001b[0;36m0\u001b[0m\u001b[0;34m,\u001b[0m \u001b[0;36m0\u001b[0m\u001b[0;34m,\u001b[0m \u001b[0;36m.95\u001b[0m\u001b[0;34m,\u001b[0m \u001b[0;36m1\u001b[0m\u001b[0;34m]\u001b[0m\u001b[0;34m,\u001b[0m \u001b[0melev\u001b[0m\u001b[0;34m=\u001b[0m\u001b[0;36m0\u001b[0m\u001b[0;34m,\u001b[0m \u001b[0mazim\u001b[0m\u001b[0;34m=\u001b[0m\u001b[0;36m0\u001b[0m\u001b[0;34m)\u001b[0m\u001b[0;34m\u001b[0m\u001b[0m\n\u001b[0;32m----> 3\u001b[0;31m \u001b[0max\u001b[0m\u001b[0;34m.\u001b[0m\u001b[0mscatter\u001b[0m\u001b[0;34m(\u001b[0m\u001b[0mPCA_X\u001b[0m\u001b[0;34m[\u001b[0m\u001b[0;34m:\u001b[0m\u001b[0;34m,\u001b[0m \u001b[0;36m0\u001b[0m\u001b[0;34m]\u001b[0m\u001b[0;34m,\u001b[0m \u001b[0mPCA_X\u001b[0m\u001b[0;34m[\u001b[0m\u001b[0;34m:\u001b[0m\u001b[0;34m,\u001b[0m \u001b[0;36m1\u001b[0m\u001b[0;34m]\u001b[0m\u001b[0;34m,\u001b[0m \u001b[0mc\u001b[0m\u001b[0;34m=\u001b[0m\u001b[0my\u001b[0m\u001b[0;34m,\u001b[0m \u001b[0mcmap\u001b[0m\u001b[0;34m=\u001b[0m\u001b[0mplt\u001b[0m\u001b[0;34m.\u001b[0m\u001b[0mcm\u001b[0m\u001b[0;34m.\u001b[0m\u001b[0mspectral\u001b[0m\u001b[0;34m)\u001b[0m\u001b[0;34m\u001b[0m\u001b[0m\n\u001b[0m",
            "\u001b[0;32m/usr/local/lib/python2.7/dist-packages/mpl_toolkits/mplot3d/axes3d.pyc\u001b[0m in \u001b[0;36mscatter\u001b[0;34m(self, xs, ys, zs, zdir, s, c, depthshade, *args, **kwargs)\u001b[0m\n\u001b[1;32m   2363\u001b[0m \u001b[0;34m\u001b[0m\u001b[0m\n\u001b[1;32m   2364\u001b[0m         patches = super(Axes3D, self).scatter(\n\u001b[0;32m-> 2365\u001b[0;31m             xs, ys, s=s, c=c, *args, **kwargs)\n\u001b[0m\u001b[1;32m   2366\u001b[0m         \u001b[0mis_2d\u001b[0m \u001b[0;34m=\u001b[0m \u001b[0;32mnot\u001b[0m \u001b[0mcbook\u001b[0m\u001b[0;34m.\u001b[0m\u001b[0miterable\u001b[0m\u001b[0;34m(\u001b[0m\u001b[0mzs\u001b[0m\u001b[0;34m)\u001b[0m\u001b[0;34m\u001b[0m\u001b[0m\n\u001b[1;32m   2367\u001b[0m         \u001b[0mzs\u001b[0m \u001b[0;34m=\u001b[0m \u001b[0m_backports\u001b[0m\u001b[0;34m.\u001b[0m\u001b[0mbroadcast_to\u001b[0m\u001b[0;34m(\u001b[0m\u001b[0mzs\u001b[0m\u001b[0;34m,\u001b[0m \u001b[0mlen\u001b[0m\u001b[0;34m(\u001b[0m\u001b[0mxs\u001b[0m\u001b[0;34m)\u001b[0m\u001b[0;34m)\u001b[0m\u001b[0;34m\u001b[0m\u001b[0m\n",
            "\u001b[0;32m/usr/local/lib/python2.7/dist-packages/matplotlib/__init__.pyc\u001b[0m in \u001b[0;36minner\u001b[0;34m(ax, *args, **kwargs)\u001b[0m\n\u001b[1;32m   1715\u001b[0m                     warnings.warn(msg % (label_namer, func.__name__),\n\u001b[1;32m   1716\u001b[0m                                   RuntimeWarning, stacklevel=2)\n\u001b[0;32m-> 1717\u001b[0;31m             \u001b[0;32mreturn\u001b[0m \u001b[0mfunc\u001b[0m\u001b[0;34m(\u001b[0m\u001b[0max\u001b[0m\u001b[0;34m,\u001b[0m \u001b[0;34m*\u001b[0m\u001b[0margs\u001b[0m\u001b[0;34m,\u001b[0m \u001b[0;34m**\u001b[0m\u001b[0mkwargs\u001b[0m\u001b[0;34m)\u001b[0m\u001b[0;34m\u001b[0m\u001b[0m\n\u001b[0m\u001b[1;32m   1718\u001b[0m         \u001b[0mpre_doc\u001b[0m \u001b[0;34m=\u001b[0m \u001b[0minner\u001b[0m\u001b[0;34m.\u001b[0m\u001b[0m__doc__\u001b[0m\u001b[0;34m\u001b[0m\u001b[0m\n\u001b[1;32m   1719\u001b[0m         \u001b[0;32mif\u001b[0m \u001b[0mpre_doc\u001b[0m \u001b[0;32mis\u001b[0m \u001b[0mNone\u001b[0m\u001b[0;34m:\u001b[0m\u001b[0;34m\u001b[0m\u001b[0m\n",
            "\u001b[0;32m/usr/local/lib/python2.7/dist-packages/matplotlib/axes/_axes.pyc\u001b[0m in \u001b[0;36mscatter\u001b[0;34m(self, x, y, s, c, marker, cmap, norm, vmin, vmax, alpha, linewidths, verts, edgecolors, **kwargs)\u001b[0m\n\u001b[1;32m   3989\u001b[0m                 msg = (\"c of shape {0} not acceptable as a color sequence \"\n\u001b[1;32m   3990\u001b[0m                        \"for x with size {1}, y with size {2}\")\n\u001b[0;32m-> 3991\u001b[0;31m                 \u001b[0;32mraise\u001b[0m \u001b[0mValueError\u001b[0m\u001b[0;34m(\u001b[0m\u001b[0mmsg\u001b[0m\u001b[0;34m.\u001b[0m\u001b[0mformat\u001b[0m\u001b[0;34m(\u001b[0m\u001b[0mc\u001b[0m\u001b[0;34m.\u001b[0m\u001b[0mshape\u001b[0m\u001b[0;34m,\u001b[0m \u001b[0mx\u001b[0m\u001b[0;34m.\u001b[0m\u001b[0msize\u001b[0m\u001b[0;34m,\u001b[0m \u001b[0my\u001b[0m\u001b[0;34m.\u001b[0m\u001b[0msize\u001b[0m\u001b[0;34m)\u001b[0m\u001b[0;34m)\u001b[0m\u001b[0;34m\u001b[0m\u001b[0m\n\u001b[0m\u001b[1;32m   3992\u001b[0m         \u001b[0;32melse\u001b[0m\u001b[0;34m:\u001b[0m\u001b[0;34m\u001b[0m\u001b[0m\n\u001b[1;32m   3993\u001b[0m             \u001b[0mcolors\u001b[0m \u001b[0;34m=\u001b[0m \u001b[0mNone\u001b[0m  \u001b[0;31m# use cmap, norm after collection is created\u001b[0m\u001b[0;34m\u001b[0m\u001b[0m\n",
            "\u001b[0;31mValueError\u001b[0m: c of shape (150,) not acceptable as a color sequence for x with size 150, y with size 150"
          ]
        },
        {
          "output_type": "display_data",
          "data": {
            "image/png": "[encoded data removed]",
            "text/plain": [
              "<matplotlib.figure.Figure at 0x7fab32e63790>"
            ]
          },
          "metadata": {
            "tags": []
          }
        }
      ]
    },
    {
      "metadata": {
        "id": "q1lqL1wDP4xy",
        "colab_type": "text"
      },
      "cell_type": "markdown",
      "source": [
        "Hover over the green box below for the answer\n",
        "<p id=\"ans\"><font color = \"white\">fig = plt.figure(1, figsize=(10, 8))<br>\n",
        "ax = Axes3D(fig, rect=[0, 0, .95, 1], elev=0, azim=0)<br>\n",
        "ax.scatter(PCA_X[:, 0], PCA_X[:, 1], c=y, cmap=plt.cm.spectral)</font>\n",
        "</p>"
      ]
    },
    {
      "metadata": {
        "id": "FuiE5XktP4x0",
        "colab_type": "text"
      },
      "cell_type": "markdown",
      "source": [
        "Now as you can see, given the <b>same view</b>, there are <b>no datapoints</b> except on the <b>z = 0 plane</b>. Rather the <b>datapoints</b> are on the <b>other axes</b> confirming a <b>projection</b> from <b>3 features</b> to <b>2</b>. You can even look at the <b>shape</b> of <b>PCA_X</b> to show <b>2 features</b>."
      ]
    },
    {
      "metadata": {
        "id": "zikFjL_cP4x1",
        "colab_type": "code",
        "colab": {
          "base_uri": "https://localhost:8080/",
          "height": 34
        },
        "outputId": "1238df90-df47-4e0d-d43f-a964679a4920"
      },
      "cell_type": "code",
      "source": [
        "PCA_X.shape"
      ],
      "execution_count": 29,
      "outputs": [
        {
          "output_type": "execute_result",
          "data": {
            "text/plain": [
              "(150, 2)"
            ]
          },
          "metadata": {
            "tags": []
          },
          "execution_count": 29
        }
      ]
    },
    {
      "metadata": {
        "id": "3EeJSqUxP4x6",
        "colab_type": "text"
      },
      "cell_type": "markdown",
      "source": [
        "Hover over the green box below for the answer\n",
        "<p id=\"ans\"><font color = \"white\">PCA_X.shape</font>\n",
        "</p>"
      ]
    },
    {
      "metadata": {
        "id": "W9Re03GCP4x6",
        "colab_type": "text"
      },
      "cell_type": "markdown",
      "source": [
        "You may wish to <b>change</b> the values of <b>elev</b> and <b>azim</b> if you would like to view the graph in <b>different perspectives</b>. <b>Elev</b> controls the <b>elevation</b> of the <b>z plane</b> and <b>azim</b> controls the <b>azimuth angle</b> in the <b>x,y plane</b>."
      ]
    },
    {
      "metadata": {
        "id": "zQkz6-5WP4x7",
        "colab_type": "text"
      },
      "cell_type": "markdown",
      "source": [
        "# <u>Overview</u>\n",
        "\n",
        "You have looked at <b>Feature Selection</b> with <b>VarianceThreshold</b> and <b>Univariance</b> to select the correct features. Then you have worked on <b>Feature Extraction</b> with <b>DictVectorizer</b> to convert dictionaries to the correct format of array. You have also used <b>PCA</b> to <b>visualize</b> your <b>data</b> from <b>Feature Selection</b> and <b>projected</b> it onto another <b>plane</b>."
      ]
    },
    {
      "metadata": {
        "id": "PPAfOHC2P4x8",
        "colab_type": "text"
      },
      "cell_type": "markdown",
      "source": [
        "## Want to learn more?\n",
        "\n",
        "IBM SPSS Modeler is a comprehensive analytics platform that has many machine learning algorithms. It has been designed to bring predictive intelligence to decisions made by individuals, by groups, by systems – by your enterprise as a whole. A free trial is available through this course, available here: [SPSS Modeler for Mac users](https://cocl.us/ML0101EN_SPSSMod_mac) and [SPSS Modeler for Windows users](https://cocl.us/ML0101EN_SPSSMod_win)\n",
        "\n",
        "Also, you can use Data Science Experience to run these notebooks faster with bigger datasets. Data Science Experience is IBM's leading cloud solution for data scientists, built by data scientists. With Jupyter notebooks, RStudio, Apache Spark and popular libraries pre-packaged in the cloud, DSX enables data scientists to collaborate on their projects without having to install anything. Join the fast-growing community of DSX users today with a free account at [Data Science Experience](https://cocl.us/ML0101EN_DSX)"
      ]
    },
    {
      "metadata": {
        "id": "5tjuJGafP4x8",
        "colab_type": "text"
      },
      "cell_type": "markdown",
      "source": [
        "---\n",
        "# Additional Resources\n",
        "<br>\n",
        "Dimensionality Reduction: https://www.youtube.com/watch?v=q115CrtZ_3s\n",
        "<br><br>\n",
        "Feature Selection: http://scikit-learn.org/stable/modules/feature_selection.html\n",
        "<br><br>\n",
        "Feature Extraction:\n",
        "http://scikit-learn.org/stable/modules/feature_extraction.html"
      ]
    },
    {
      "metadata": {
        "id": "SuPmwcQyP4yA",
        "colab_type": "text"
      },
      "cell_type": "markdown",
      "source": [
        "<hr>\n",
        "Copyright &copy; 2017 [IBM Cognitive Class](https://cocl.us/ML0101_cclab). This notebook and its source code are released under the terms of the [MIT License](https://cognitiveclass.ai/mit-license/)."
      ]
    }
  ]
}