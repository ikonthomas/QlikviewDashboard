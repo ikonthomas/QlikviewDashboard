{
  "nbformat": 4,
  "nbformat_minor": 0,
  "metadata": {
    "colab": {
      "name": "WQU_MLF_Assignment_1_Thomas.ipynb",
      "version": "0.3.2",
      "provenance": [],
      "collapsed_sections": [],
      "include_colab_link": true
    },
    "kernelspec": {
      "display_name": "Python 3",
      "language": "python",
      "name": "python3"
    }
  },
  "cells": [
    {
      "cell_type": "markdown",
      "metadata": {
        "id": "view-in-github",
        "colab_type": "text"
      },
      "source": [
        "<a href=\"https://colab.research.google.com/github/ikonthomas/SchoolPlay/blob/master/WQU_MLF_Assignment_1_Thomas.ipynb\" target=\"_parent\"><img src=\"https://colab.research.google.com/assets/colab-badge.svg\" alt=\"Open In Colab\"/></a>"
      ]
    },
    {
      "metadata": {
        "id": "NhyHx2JB_BR3",
        "colab_type": "text"
      },
      "cell_type": "markdown",
      "source": [
        "# Peer Review Assignment 1\n",
        "\n",
        "Name: Thomas Muserepwa\n",
        "\n",
        "Date: 08/04/2019\n"
      ]
    },
    {
      "metadata": {
        "id": "KkHi5l_r_BR7",
        "colab_type": "text"
      },
      "cell_type": "markdown",
      "source": [
        "## Instructions\n",
        "* Work through the notebook, answer all questions, and do all problems\n",
        "* You are allowed to consult the internet, and discuss on the module forum\n",
        "* Your answers and solutions to the problems should be added to this notebook \n",
        "* Submit your final work as an html file\n",
        "* Note that the solutions to the problems used python version 3.6.4. \n",
        "* Hint: In this assignment you work with a single linear regression problem where you generate data yourself. This means that you have an idea of what the computed solution should look like. \n",
        "\n",
        "## Marking Scheme (Theoretical Questions)\n",
        "* All questions are marked out of 3.\n",
        "* No valid answer: 0 marks\n",
        "* Demonstration of grasp of basic idea: 1 mark\n",
        "* 'Perfect' answer: 3 marks\n",
        "\n",
        "## Marking Scheme (Practical Problems)\n",
        "* All problems are marked out of 5.\n",
        "* No valid answer: 0 marks\n",
        "* Demonstration of grasp of basic idea: 2 mark\n",
        "* Working code: 5 marks\n",
        "---"
      ]
    },
    {
      "metadata": {
        "id": "r3ooOO9O_BSA",
        "colab_type": "text"
      },
      "cell_type": "markdown",
      "source": [
        "# Regression\n",
        "\n",
        "Let's start with the simplest possible regression problem: Solve the following system of linear equations,\n",
        "\n",
        "$$\n",
        "x = 1.0\\\\\n",
        "x = 0.5\\\\\n",
        "x = 0.7\\\\\n",
        "$$\n",
        "At first glance this does not make sense, how can $x$ take on different values than these? In practice however, this happens all the time. Think of the situation where you measure a quantity multiple times; every time you measure - a slightly different value - just as in the equations above. This is a simple example of an over-determined system.\n",
        "\n",
        "---\n",
        "Answer the following questions (all calculations should be done by hand, written here in latex):"
      ]
    },
    {
      "metadata": {
        "id": "KAd6Rg-k_BSB",
        "colab_type": "text"
      },
      "cell_type": "markdown",
      "source": [
        "### Questions 1:\n",
        "\n",
        "1.1) Write the system above as a *linear* system of equation of the form $Ax = b$. <br> **Answer (3 marks):**"
      ]
    },
    {
      "metadata": {
        "id": "rj8lTL_q_BSE",
        "colab_type": "text"
      },
      "cell_type": "markdown",
      "source": [
        "\n",
        "\n",
        "$$\\begin{bmatrix} \n",
        " 1 & 0& 0 & \\\\\n",
        " 0 & 1& 0& \\\\\n",
        " 0 & 0 & 1 & \\\\\n",
        "\\end{bmatrix}\n",
        "\\begin{bmatrix}\n",
        "    x_1 \\\\\n",
        "    x_2\\\\\n",
        "    x_3\n",
        "\\end{bmatrix}\n",
        "=\n",
        "\\begin{bmatrix} \n",
        " 1.0 \\\\\n",
        " 0.5\\\\\n",
        " 0.7\n",
        "\\end{bmatrix}$$"
      ]
    },
    {
      "metadata": {
        "id": "bXO7AmAK_BSH",
        "colab_type": "text"
      },
      "cell_type": "markdown",
      "source": [
        "1.2) Write down the normal equations, $A^TA x = A^T b$ for this system.<br>\n",
        "   **Answer (3 marks):**"
      ]
    },
    {
      "metadata": {
        "id": "uGVFjsYA_BSK",
        "colab_type": "text"
      },
      "cell_type": "markdown",
      "source": [
        "$$\\begin{bmatrix} \n",
        " 1 & 0& 0 & \\\\\n",
        " 0 & 1& 0& \\\\\n",
        " 0 & 0 & 1 & \\\\\n",
        "\\end{bmatrix}\\begin{bmatrix} \n",
        " 1 & 0& 0 & \\\\\n",
        " 0 & 1& 0& \\\\\n",
        " 0 & 0 & 1 & \\\\\n",
        "\\end{bmatrix}\n",
        "\\begin{bmatrix}\n",
        "    x_1 \\\\\n",
        "    x_2\\\\\n",
        "    x_3\n",
        "\\end{bmatrix}\n",
        "=\n",
        "\\begin{bmatrix} \n",
        " 1 & 0& 0 & \\\\\n",
        " 0 & 1& 0& \\\\\n",
        " 0 & 0 & 1 & \\\\\n",
        "\\end{bmatrix}\\begin{bmatrix} \n",
        " 1.0 \\\\\n",
        " 0.5\\\\\n",
        " 0.7\n",
        "\\end{bmatrix}$$"
      ]
    },
    {
      "metadata": {
        "id": "SwvCbGN0_BSL",
        "colab_type": "text"
      },
      "cell_type": "markdown",
      "source": [
        "1.3) Solve the system of normal equations for the system above. Is there an intuitive interpretation of the solution \n",
        "\n",
        "**Answer (3 marks):**"
      ]
    },
    {
      "metadata": {
        "id": "P4sInfg0_BSO",
        "colab_type": "text"
      },
      "cell_type": "markdown",
      "source": [
        "$$\n",
        "\\begin{bmatrix}\n",
        "    x_1 \\\\\n",
        "    x_2\\\\\n",
        "    x_3\n",
        "\\end{bmatrix}\n",
        "=\n",
        "\\begin{bmatrix} \n",
        " 1.0 \\\\\n",
        " 0.5\\\\\n",
        " 0.7\n",
        "\\end{bmatrix}$$"
      ]
    },
    {
      "metadata": {
        "id": "unD0R4gn_BSR",
        "colab_type": "text"
      },
      "cell_type": "markdown",
      "source": [
        "---\n",
        "Let's now revisit the well-known linear regression problem. We'll first formulate it as the solution of an over-determined system, and then as an optimisation problem. For this example we'll use the computer to solve the problem.\n",
        "\n",
        "We are given data in the form of $(x,y)$ pairs and we know that, given $x$, that $y = mx +c$. Since one can fit a straight line through two points, we only need two pairs to fit a line. But there is a rub, the $y$ values are contaminated by noise (at this point you may want to look at the example below), and it is not possible to find a single line that will pass through all points. We therefore need to find the line that best fits the given values. We'll lead you through the solution.\n",
        "\n",
        "Given $(x_n,y_n),\\;\\;n=1,\\ldots,N$, we need to solve for $m$ and $b$ from\n",
        "$$\n",
        "mx_n +b = y_n, \\;\\;n=1,\\ldots,N.\n",
        "$$"
      ]
    },
    {
      "metadata": {
        "id": "SUVU2yuE_BSU",
        "colab_type": "text"
      },
      "cell_type": "markdown",
      "source": [
        "---\n",
        "### Questions 2:\n",
        "\n",
        "2.1) Write this as a linear system where the unknowns are $m$ and $b$.<br>\n",
        "   **Answer (3 marks):**"
      ]
    },
    {
      "metadata": {
        "id": "9ESUzDqz_BSX",
        "colab_type": "text"
      },
      "cell_type": "markdown",
      "source": [
        "$$mx_n+b=y_n$$"
      ]
    },
    {
      "metadata": {
        "id": "ixfJbtgD_BSa",
        "colab_type": "text"
      },
      "cell_type": "markdown",
      "source": [
        "2.2) Write down, and solve the normal equations for the unknows $m$ and $b$.<br>\n",
        "   **Answer (3 marks):**"
      ]
    },
    {
      "metadata": {
        "id": "dP34o4Ec_BSc",
        "colab_type": "text"
      },
      "cell_type": "markdown",
      "source": [
        "$$mx_n+b-y_n=0$$\n",
        "$$mx_1+b-y_1=0$$"
      ]
    },
    {
      "metadata": {
        "id": "elXz3x6i_BSe",
        "colab_type": "text"
      },
      "cell_type": "markdown",
      "source": [
        "Next we treat this as an optimisation problem. Instead of using the normal equations, we now look for $m$ and $b$ that minimises the mean squared error,\n",
        "$$\n",
        "E = \\frac1N\\sum_{n=1}^N (mx_n + b - y_n)^2.\n",
        "$$"
      ]
    },
    {
      "metadata": {
        "id": "kk9u9a9E_BSi",
        "colab_type": "text"
      },
      "cell_type": "markdown",
      "source": [
        "---\n",
        "\n",
        "### Questions 3:\n",
        "\n",
        "3.1) Write down the equations $\\frac{\\partial E}{\\partial m} = 0$ and $\\frac{\\partial E}{\\partial b} =0$.<br>\n",
        "   **Answer (3 marks):**"
      ]
    },
    {
      "metadata": {
        "id": "KHENYxhD_BSk",
        "colab_type": "text"
      },
      "cell_type": "markdown",
      "source": [
        " $$\\frac{\\partial \\mathbf{E}}{\\partial m}=0$$\n",
        " and\n",
        "  $$\\frac{\\partial \\mathbf{E}}{\\partial b}=0$$\n",
        "\n",
        " "
      ]
    },
    {
      "metadata": {
        "id": "bPu-Hige_BSm",
        "colab_type": "text"
      },
      "cell_type": "markdown",
      "source": [
        "3.2) Write the equations as a linear system, and solve for $m$ and $b$. How does your answer compare with the answer you obtained above?<br>\n",
        "   **Answer (3 marks):**<br>"
      ]
    },
    {
      "metadata": {
        "id": "16Gt3XGN_BSp",
        "colab_type": "text"
      },
      "cell_type": "markdown",
      "source": [
        " $$\\partial \\mathbf{E}={\\partial m}$$\n",
        "\n",
        "   $$\\partial \\mathbf{E}={\\partial b}$$\n",
        "   \n",
        "   $$\\partial \\mathbf{m}={\\partial b}$$"
      ]
    },
    {
      "metadata": {
        "id": "AB1p-rWI_BSq",
        "colab_type": "text"
      },
      "cell_type": "markdown",
      "source": [
        "*It* should be clear that these are the same as the normal equations."
      ]
    },
    {
      "metadata": {
        "id": "1Gwcx_nj_BSt",
        "colab_type": "text"
      },
      "cell_type": "markdown",
      "source": [
        "---"
      ]
    },
    {
      "metadata": {
        "id": "m7Y-3UuL_BSw",
        "colab_type": "text"
      },
      "cell_type": "markdown",
      "source": [
        "We now apply these ideas to a numerical problem. First we need to import a few models"
      ]
    },
    {
      "metadata": {
        "id": "WnhF38Xf_BSz",
        "colab_type": "code",
        "colab": {}
      },
      "cell_type": "code",
      "source": [
        "# This ensures that any graphs we generate will be part of the notebook, instead of\n",
        "# opening in a separate window\n",
        "% matplotlib inline "
      ],
      "execution_count": 0,
      "outputs": []
    },
    {
      "metadata": {
        "id": "tOj96LU2_BS_",
        "colab_type": "code",
        "colab": {}
      },
      "cell_type": "code",
      "source": [
        "import numpy as np # import the numerical linear algebra module\n",
        "from matplotlib import pyplot as plt"
      ],
      "execution_count": 0,
      "outputs": []
    },
    {
      "metadata": {
        "id": "A-_dP_0q_BTI",
        "colab_type": "text"
      },
      "cell_type": "markdown",
      "source": [
        "## Generate and display data.\n",
        "In the code block below we generate data with a linear relationship and then plot."
      ]
    },
    {
      "metadata": {
        "id": "0kNe0ODp_BTL",
        "colab_type": "code",
        "outputId": "fd21a8a6-9007-485d-9ea1-8ea5c47e946d",
        "colab": {
          "base_uri": "https://localhost:8080/",
          "height": 265
        }
      },
      "cell_type": "code",
      "source": [
        "x_train = np.linspace(0,1,100)\n",
        "y_train = 0.2*x_train + 1 + 0.01*np.random.randn(x_train.shape[0])\n",
        "\n",
        "plt.plot(x_train, y_train, 'r.')\n",
        "plt.show()"
      ],
      "execution_count": 0,
      "outputs": [
        {
          "output_type": "display_data",
          "data": {
            "image/png": "[encoded data removed]",
            "text/plain": [
              "<matplotlib.figure.Figure at 0x7f77c513eeb8>"
            ]
          },
          "metadata": {
            "tags": []
          }
        }
      ]
    },
    {
      "metadata": {
        "id": "Cl3_k-zi_BTe",
        "colab_type": "text"
      },
      "cell_type": "markdown",
      "source": [
        "### Problem 1: Find $m$ and $b$ using numpy\n",
        "\n",
        "1. Using numpy, create $A$ and $b$ for the system $Ax=b$ (here $x$ is the vector containing the unknown weight $w$ and offset $b$). <br> ** Answer (5 marks) **\n",
        "\n",
        "2. Solve the normal equations for $m$ and $b$. <br> **Answer (5 marks)**\n"
      ]
    },
    {
      "metadata": {
        "id": "R2qryUjx_BTg",
        "colab_type": "code",
        "colab": {}
      },
      "cell_type": "code",
      "source": [
        "b = np.array([1,0.5,0.7])\n",
        "col2 =(1,1,1) # hint: np.ones()\n",
        "A = np.diag(col2)# hint: np.vstack().T\n",
        "\n",
        "# Your code here\n",
        "# Normal equations\n",
        "A_normal =np.array(1,1,1)\n",
        "b_normal =np.array(1,0.5,0.7)\n",
        "\n",
        "# Solve\n",
        "m = 3\n",
        "b = 7\n",
        "\n",
        "def swap(a, b):\n",
        "    temp = a\n",
        "    m = b\n",
        "    b = temp\n",
        "\n",
        "swap(m, b)\n",
        "\n",
        "print(m, b)\n",
        "\n",
        "\n",
        "# End of your code\n",
        "\n",
        "# The computed values of m and b should be compared with the values\n",
        "# m = 0.2 and b = 1.0, used to generate the data\n",
        "print(m, b)"
      ],
      "execution_count": 0,
      "outputs": []
    },
    {
      "metadata": {
        "id": "U2fWkbOu_BTp",
        "colab_type": "text"
      },
      "cell_type": "markdown",
      "source": [
        "---"
      ]
    },
    {
      "metadata": {
        "id": "EVz5IJwn_BTr",
        "colab_type": "text"
      },
      "cell_type": "markdown",
      "source": [
        "### Question 4:\n",
        "1. Why do the numerical values differ from the values used to generate the data?\n",
        "<br> **Answer (3 marks):**"
      ]
    },
    {
      "metadata": {
        "id": "vZ5bBcj5_BTu",
        "colab_type": "text"
      },
      "cell_type": "markdown",
      "source": [
        "**This** is mainly due to white noise which is normal in linear regressions with high levels of stochasticity. The output of the compiler and the input of the assembler have to be the same, usually one side dictates and the other side conforms to.  We have the exact same situation between the assembler and the linker, the file format is completely arbitrary whatever we choose to invent so long as it does the job, but for one tool to hand off to the other there has to be an agreed format and/or another tool to convert from one format to the other."
      ]
    },
    {
      "metadata": {
        "id": "YyEIhcew_BTv",
        "colab_type": "text"
      },
      "cell_type": "markdown",
      "source": [
        "---\n",
        "## Using normal equations is numerically unstable\n",
        "\n",
        "Although it does not matter much for the simple example above, in general it is bad practice to use the normal equations to solve the least squares problem. Surprisingly enough, the culprit is the *covariance* matrix $A^TA$. We cannot compute it in a numerically stable fashion. Technically, its condition number is roughly the square of the condition number of $A$ and in practice this means that we loose roughly half the precision if we calculate the covariance matrix.\n",
        "\n",
        "A full discussion is beyond the scope of the course, but the interested reader is encouraged to consult, Lloyd N. Trefethen and David Bau, III. NUMERICAL LINEAR ALGEBRA, SIAM 1997.\n",
        "\n",
        "A numerical stable way of solving the linear least squares problem is to first do a $QR$ factorization of $A$. If $A$ is an $m\\times n$ dimensional array with $m>n$ (more equations than unknowns), then the $QR$ factorization is given by\n",
        "$$\n",
        "A = QR,\n",
        "$$\n",
        "where $Q$ is an $m\\times n$ matrix with orthogonal columns, i.e. $Q^TQ=I$, and $R$ is an $n\\times n$ upper triangular matrix. Assuming that $A$ has full rank, i.e. its columns are linearly independent, then it can be shown that $R$ is non-singular. One has to take some care, but there are a number of numerically stable algorithms to compute the $QR$ factorisation. \n",
        "\n",
        "Let's now substitute the $A=QR$ in the normal equations,\n",
        "$$\n",
        "(QR)^T QR x = (QR)^T b.\n",
        "$$\n",
        "Taking the orthogonality of $Q$ and the non-singularity of $R$ into account, this equation boils down to\n",
        "$$\n",
        "Rx = Q^Tb.\n",
        "$$\n",
        "Since $R$ is non-singular and upper traingular, this system is easily and efficiently solved.\n",
        "\n",
        "What has happened here? After we calculated the $QR$ algorithm in a stable manner, we did many of the calculations analytically (using $Q^TQ=I$ and cancelling $R^T$ from both sides), and that is done with infinite precision!"
      ]
    },
    {
      "metadata": {
        "id": "AFHcx1xt_BTy",
        "colab_type": "text"
      },
      "cell_type": "markdown",
      "source": [
        "---\n",
        "### Problem 2:\n",
        "1. Solve the linear least squares problem using the $QR$ factorization. With numpy. <br> ** Ansewr (5 marks):**"
      ]
    },
    {
      "metadata": {
        "id": "khFaRHuR_BT1",
        "colab_type": "code",
        "colab": {}
      },
      "cell_type": "code",
      "source": [
        "\n",
        "A = np.array([[1, 0, 0], [0, 1, 0], [0, 0, 1]])\n",
        "\n",
        "\n",
        "b = np.array([1, 0, 2, 1])\n",
        "\n",
        "Q, R =np.linalg.qr(A)\n",
        "m = np.dot(q.T, b)\n",
        "np.dot(LA.inv(r), m)\n",
        "# End of your code\n",
        "\n",
        "print(Q.shape, '\\n')\n",
        "print('R = ', R, '\\n')\n",
        "print('Q^TQ = ', np.dot(Q.T,Q))\n",
        "print(m, b)"
      ],
      "execution_count": 0,
      "outputs": []
    },
    {
      "metadata": {
        "id": "hdPe4Ibg_BUA",
        "colab_type": "code",
        "colab": {}
      },
      "cell_type": "code",
      "source": [
        "# Your code here\n",
        "m, b = np.linalg(b,A)\n",
        "# End of your code\n",
        "\n",
        "print(m,b)"
      ],
      "execution_count": 0,
      "outputs": []
    },
    {
      "metadata": {
        "id": "HxP_n-Tg_BUK",
        "colab_type": "text"
      },
      "cell_type": "markdown",
      "source": [
        "# Solve using scikit-learn\n",
        "\n",
        "First we need to import the necessary module from scikit-learn"
      ]
    },
    {
      "metadata": {
        "id": "kcD73ztM_BUM",
        "colab_type": "code",
        "colab": {}
      },
      "cell_type": "code",
      "source": [
        "# Import modules from sklearn\n",
        "from sklearn.linear_model import  LinearRegression"
      ],
      "execution_count": 0,
      "outputs": []
    },
    {
      "metadata": {
        "id": "vkgin5if_BUi",
        "colab_type": "text"
      },
      "cell_type": "markdown",
      "source": [
        "## Problem 3:\n",
        "\n",
        "1. Solve the linear least squares problem using sklearn. <br> ** Answer (5 marks):**"
      ]
    },
    {
      "metadata": {
        "id": "jfPYGrZy_BUk",
        "colab_type": "code",
        "outputId": "887fc303-aacb-4b55-c097-20f378bceba6",
        "colab": {
          "base_uri": "https://localhost:8080/",
          "height": 231
        }
      },
      "cell_type": "code",
      "source": [
        "# Fit the data to the model\n",
        " reg = LinearRegression()\n",
        "reg.fit ([[1, 0, 0], [0, 1, 0], [0, 0, 1]])\n",
        "...                                       \n",
        "LinearRegression(copy_X=True, fit_intercept=True, n_jobs=None,\n",
        "                 normalize=False)\n",
        "\n",
        "# Print the weight and offset. The values are the same as from the normal equations.\n"
      ],
      "execution_count": 0,
      "outputs": [
        {
          "output_type": "error",
          "ename": "TypeError",
          "evalue": "ignored",
          "traceback": [
            "\u001b[0;31m---------------------------------------------------------------------------\u001b[0m",
            "\u001b[0;31mTypeError\u001b[0m                                 Traceback (most recent call last)",
            "\u001b[0;32m<ipython-input-8-81e40a7ed0e9>\u001b[0m in \u001b[0;36m<module>\u001b[0;34m()\u001b[0m\n\u001b[1;32m      1\u001b[0m \u001b[0mreg\u001b[0m \u001b[0;34m=\u001b[0m \u001b[0mLinearRegression\u001b[0m\u001b[0;34m(\u001b[0m\u001b[0;34m)\u001b[0m\u001b[0;34m\u001b[0m\u001b[0m\n\u001b[0;32m----> 2\u001b[0;31m \u001b[0mreg\u001b[0m\u001b[0;34m.\u001b[0m\u001b[0mfit\u001b[0m \u001b[0;34m(\u001b[0m\u001b[0;34m[\u001b[0m\u001b[0;34m[\u001b[0m\u001b[0;36m1\u001b[0m\u001b[0;34m,\u001b[0m \u001b[0;36m0\u001b[0m\u001b[0;34m,\u001b[0m \u001b[0;36m0\u001b[0m\u001b[0;34m]\u001b[0m\u001b[0;34m,\u001b[0m \u001b[0;34m[\u001b[0m\u001b[0;36m0\u001b[0m\u001b[0;34m,\u001b[0m \u001b[0;36m1\u001b[0m\u001b[0;34m,\u001b[0m \u001b[0;36m0\u001b[0m\u001b[0;34m]\u001b[0m\u001b[0;34m,\u001b[0m \u001b[0;34m[\u001b[0m\u001b[0;36m0\u001b[0m\u001b[0;34m,\u001b[0m \u001b[0;36m0\u001b[0m\u001b[0;34m,\u001b[0m \u001b[0;36m1\u001b[0m\u001b[0;34m]\u001b[0m\u001b[0;34m]\u001b[0m\u001b[0;34m)\u001b[0m\u001b[0;34m\u001b[0m\u001b[0m\n\u001b[0m\u001b[1;32m      3\u001b[0m \u001b[0;34m...\u001b[0m\u001b[0;34m\u001b[0m\u001b[0m\n\u001b[1;32m      4\u001b[0m LinearRegression(copy_X=True, fit_intercept=True, n_jobs=None,\n\u001b[1;32m      5\u001b[0m                 normalize=False)\n",
            "\u001b[0;31mTypeError\u001b[0m: fit() missing 1 required positional argument: 'y'"
          ]
        }
      ]
    },
    {
      "metadata": {
        "id": "LUmtZgeV_BUu",
        "colab_type": "text"
      },
      "cell_type": "markdown",
      "source": [
        "# Using Keras\n",
        "\n",
        "First import the necessary modules from keras"
      ]
    },
    {
      "metadata": {
        "id": "6rTWuBh9_BUx",
        "colab_type": "code",
        "outputId": "937cd6c4-258f-4086-d8b0-54ecb939cf2b",
        "colab": {
          "base_uri": "https://localhost:8080/",
          "height": 34
        }
      },
      "cell_type": "code",
      "source": [
        "from keras.models import Sequential\n",
        "from keras.layers import Dense\n",
        "from keras.optimizers import Adam"
      ],
      "execution_count": 0,
      "outputs": [
        {
          "output_type": "stream",
          "text": [
            "Using TensorFlow backend.\n"
          ],
          "name": "stderr"
        }
      ]
    },
    {
      "metadata": {
        "id": "TK5aIjJi_BU9",
        "colab_type": "text"
      },
      "cell_type": "markdown",
      "source": [
        "## Problem 4:\n",
        "\n",
        "1. Solve the linear least squares problem using keras. <br> ** Answer (5 marks):**\n",
        "2. Use the Adam optimiser and experiment with different learning rates. <br> ** Answer (5 marks):**\n",
        "\n",
        "**Note:** You should find everything you need on the internet\n",
        "* https://keras.io/getting-started/sequential-model-guide/\n",
        "* https://keras.io/optimizers/\n",
        "* https://keras.io/models/sequential/"
      ]
    },
    {
      "metadata": {
        "id": "BywbOEA5_BVB",
        "colab_type": "code",
        "colab": {}
      },
      "cell_type": "code",
      "source": [
        "model = Sequential()\n",
        "model.add(Dense(1, input_dim=1, kernel_initializer='normal', activation='RELU'))\n",
        "\n",
        "# Compile model\n",
        "sgd = optimizers.ADAM(lr=0.01, decay=1e-6, momentum=0.9, nesterov=True)\n",
        "model.compile(loss=3, optimizer=adam, metrics=['mse'])\n",
        "\n",
        "# Fit model: use a batch_size=20, epochs=300\n",
        "model.fit(x=1, y=1, batch_size=20, epochs=300, verbose=1)"
      ],
      "execution_count": 0,
      "outputs": []
    },
    {
      "metadata": {
        "id": "FYiMYgIu_BVK",
        "colab_type": "code",
        "colab": {}
      },
      "cell_type": "code",
      "source": [
        "# Print model weights, might not be exactly the same as above.\n",
        "input_x = tf.placeholder(tf.float32, [None, 10], name='input_x')    \n",
        "dense1 = layers.Dense(10, activation='relu')\n",
        "y = dense1(input_x)\n",
        "\n",
        "weights = dense1.get_weights()\n"
      ],
      "execution_count": 0,
      "outputs": []
    }
  ]
}